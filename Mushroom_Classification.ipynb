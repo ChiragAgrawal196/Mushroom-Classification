{
  "nbformat": 4,
  "nbformat_minor": 0,
  "metadata": {
    "colab": {
      "name": "Mushroom Classification 0.7.ipynb",
      "provenance": [],
      "toc_visible": true
    },
    "kernelspec": {
      "name": "python3",
      "display_name": "Python 3"
    }
  },
  "cells": [
    {
      "cell_type": "code",
      "metadata": {
        "id": "4roLr30_7bJa"
      },
      "source": [
        "import pandas as pd\r\n",
        "import numpy as np\r\n",
        "import matplotlib.pyplot as plt\r\n",
        "import seaborn as sns\r\n",
        "from sklearn.model_selection import train_test_split as tts, RandomizedSearchCV,StratifiedShuffleSplit\r\n",
        "from sklearn.preprocessing import StandardScaler, LabelEncoder, power_transform\r\n",
        "from sklearn.feature_selection import VarianceThreshold\r\n",
        "from sklearn.linear_model import LogisticRegression\r\n",
        "from sklearn.metrics import confusion_matrix, classification_report, r2_score, precision_recall_curve, roc_auc_score, roc_curve, auc, f1_score, recall_score, precision_score\r\n",
        "from sklearn.tree import DecisionTreeClassifier\r\n",
        "from sklearn.feature_selection import SelectKBest, RFE, RFECV, chi2   #chi2 aka. chi square is used when working with 2 categorical columns.\r\n",
        "from sklearn.decomposition import PCA\r\n",
        "from scipy import stats\r\n",
        "import statsmodels.api as sm\r\n",
        "import pprint\r\n",
        "from statsmodels.stats.outliers_influence import variance_inflation_factor\r\n"
      ],
      "execution_count": 12,
      "outputs": []
    },
    {
      "cell_type": "markdown",
      "metadata": {
        "id": "0HYIzhMi2ZrH"
      },
      "source": [
        "#Importing Data\r\n"
      ]
    },
    {
      "cell_type": "code",
      "metadata": {
        "colab": {
          "base_uri": "https://localhost:8080/",
          "height": 260
        },
        "id": "2Jibswd87rsf",
        "outputId": "e1ecda88-8be9-4507-95f2-e71861164788"
      },
      "source": [
        "missing_values = [\"n/a\", \"na\", \"--\", \"NONE\", \"None\", \"none\", \"NA\", \"N/A\",'inf','-inf']\r\n",
        "data = pd.read_csv('mushrooms.csv', na_values=missing_values)\r\n",
        "data.head()"
      ],
      "execution_count": 13,
      "outputs": [
        {
          "output_type": "execute_result",
          "data": {
            "text/html": [
              "<div>\n",
              "<style scoped>\n",
              "    .dataframe tbody tr th:only-of-type {\n",
              "        vertical-align: middle;\n",
              "    }\n",
              "\n",
              "    .dataframe tbody tr th {\n",
              "        vertical-align: top;\n",
              "    }\n",
              "\n",
              "    .dataframe thead th {\n",
              "        text-align: right;\n",
              "    }\n",
              "</style>\n",
              "<table border=\"1\" class=\"dataframe\">\n",
              "  <thead>\n",
              "    <tr style=\"text-align: right;\">\n",
              "      <th></th>\n",
              "      <th>cap-shape</th>\n",
              "      <th>cap-surface</th>\n",
              "      <th>cap-color</th>\n",
              "      <th>bruises</th>\n",
              "      <th>odor</th>\n",
              "      <th>gill-attachment</th>\n",
              "      <th>gill-spacing</th>\n",
              "      <th>gill-size</th>\n",
              "      <th>gill-color</th>\n",
              "      <th>stalk-shape</th>\n",
              "      <th>stalk-root</th>\n",
              "      <th>stalk-surface-above-ring</th>\n",
              "      <th>stalk-surface-below-ring</th>\n",
              "      <th>stalk-color-above-ring</th>\n",
              "      <th>stalk-color-below-ring</th>\n",
              "      <th>veil-type</th>\n",
              "      <th>veil-color</th>\n",
              "      <th>ring-number</th>\n",
              "      <th>ring-type</th>\n",
              "      <th>spore-print-color</th>\n",
              "      <th>population</th>\n",
              "      <th>habitat</th>\n",
              "      <th>class</th>\n",
              "    </tr>\n",
              "  </thead>\n",
              "  <tbody>\n",
              "    <tr>\n",
              "      <th>0</th>\n",
              "      <td>x</td>\n",
              "      <td>s</td>\n",
              "      <td>n</td>\n",
              "      <td>t</td>\n",
              "      <td>p</td>\n",
              "      <td>f</td>\n",
              "      <td>c</td>\n",
              "      <td>n</td>\n",
              "      <td>k</td>\n",
              "      <td>e</td>\n",
              "      <td>e</td>\n",
              "      <td>s</td>\n",
              "      <td>s</td>\n",
              "      <td>w</td>\n",
              "      <td>w</td>\n",
              "      <td>p</td>\n",
              "      <td>w</td>\n",
              "      <td>o</td>\n",
              "      <td>p</td>\n",
              "      <td>k</td>\n",
              "      <td>s</td>\n",
              "      <td>u</td>\n",
              "      <td>p</td>\n",
              "    </tr>\n",
              "    <tr>\n",
              "      <th>1</th>\n",
              "      <td>x</td>\n",
              "      <td>s</td>\n",
              "      <td>y</td>\n",
              "      <td>t</td>\n",
              "      <td>a</td>\n",
              "      <td>f</td>\n",
              "      <td>c</td>\n",
              "      <td>b</td>\n",
              "      <td>k</td>\n",
              "      <td>e</td>\n",
              "      <td>c</td>\n",
              "      <td>s</td>\n",
              "      <td>s</td>\n",
              "      <td>w</td>\n",
              "      <td>w</td>\n",
              "      <td>p</td>\n",
              "      <td>w</td>\n",
              "      <td>o</td>\n",
              "      <td>p</td>\n",
              "      <td>n</td>\n",
              "      <td>n</td>\n",
              "      <td>g</td>\n",
              "      <td>e</td>\n",
              "    </tr>\n",
              "    <tr>\n",
              "      <th>2</th>\n",
              "      <td>b</td>\n",
              "      <td>s</td>\n",
              "      <td>w</td>\n",
              "      <td>t</td>\n",
              "      <td>l</td>\n",
              "      <td>f</td>\n",
              "      <td>c</td>\n",
              "      <td>b</td>\n",
              "      <td>n</td>\n",
              "      <td>e</td>\n",
              "      <td>c</td>\n",
              "      <td>s</td>\n",
              "      <td>s</td>\n",
              "      <td>w</td>\n",
              "      <td>w</td>\n",
              "      <td>p</td>\n",
              "      <td>w</td>\n",
              "      <td>o</td>\n",
              "      <td>p</td>\n",
              "      <td>n</td>\n",
              "      <td>n</td>\n",
              "      <td>m</td>\n",
              "      <td>e</td>\n",
              "    </tr>\n",
              "    <tr>\n",
              "      <th>3</th>\n",
              "      <td>x</td>\n",
              "      <td>y</td>\n",
              "      <td>w</td>\n",
              "      <td>t</td>\n",
              "      <td>p</td>\n",
              "      <td>f</td>\n",
              "      <td>c</td>\n",
              "      <td>n</td>\n",
              "      <td>n</td>\n",
              "      <td>e</td>\n",
              "      <td>e</td>\n",
              "      <td>s</td>\n",
              "      <td>s</td>\n",
              "      <td>w</td>\n",
              "      <td>w</td>\n",
              "      <td>p</td>\n",
              "      <td>w</td>\n",
              "      <td>o</td>\n",
              "      <td>p</td>\n",
              "      <td>k</td>\n",
              "      <td>s</td>\n",
              "      <td>u</td>\n",
              "      <td>p</td>\n",
              "    </tr>\n",
              "    <tr>\n",
              "      <th>4</th>\n",
              "      <td>x</td>\n",
              "      <td>s</td>\n",
              "      <td>g</td>\n",
              "      <td>f</td>\n",
              "      <td>n</td>\n",
              "      <td>f</td>\n",
              "      <td>w</td>\n",
              "      <td>b</td>\n",
              "      <td>k</td>\n",
              "      <td>t</td>\n",
              "      <td>e</td>\n",
              "      <td>s</td>\n",
              "      <td>s</td>\n",
              "      <td>w</td>\n",
              "      <td>w</td>\n",
              "      <td>p</td>\n",
              "      <td>w</td>\n",
              "      <td>o</td>\n",
              "      <td>e</td>\n",
              "      <td>n</td>\n",
              "      <td>a</td>\n",
              "      <td>g</td>\n",
              "      <td>e</td>\n",
              "    </tr>\n",
              "  </tbody>\n",
              "</table>\n",
              "</div>"
            ],
            "text/plain": [
              "  cap-shape cap-surface cap-color  ... population habitat class\n",
              "0         x           s         n  ...          s       u     p\n",
              "1         x           s         y  ...          n       g     e\n",
              "2         b           s         w  ...          n       m     e\n",
              "3         x           y         w  ...          s       u     p\n",
              "4         x           s         g  ...          a       g     e\n",
              "\n",
              "[5 rows x 23 columns]"
            ]
          },
          "metadata": {
            "tags": []
          },
          "execution_count": 13
        }
      ]
    },
    {
      "cell_type": "markdown",
      "metadata": {
        "id": "aCJPZm4p2fw4"
      },
      "source": [
        "#Creating Train and Test sets using Stratified Shuffle Split.\r\n"
      ]
    },
    {
      "cell_type": "markdown",
      "metadata": {
        "id": "2VM5Zjy14U4k"
      },
      "source": [
        "Stratified Shuffle split will not create sampling bias as it will choose some samples from all the target classes."
      ]
    },
    {
      "cell_type": "code",
      "metadata": {
        "colab": {
          "base_uri": "https://localhost:8080/"
        },
        "id": "bqyVIQXG7t7r",
        "outputId": "13b1d322-93aa-4163-ac07-efae484a88dc"
      },
      "source": [
        "split = StratifiedShuffleSplit(n_splits = 1, random_state=42, test_size=0.2) #n_splits = 1 because I want to divide data into train and test sets\r\n",
        "for train_index, test_index in split.split(data, data['class']):\r\n",
        "  stratified_train_data = data.loc[train_index]\r\n",
        "  stratified_test_data = data.loc[test_index]\r\n",
        "\r\n",
        "print(stratified_train_data.shape , stratified_test_data.shape)"
      ],
      "execution_count": 14,
      "outputs": [
        {
          "output_type": "stream",
          "text": [
            "(6499, 23) (1625, 23)\n"
          ],
          "name": "stdout"
        }
      ]
    },
    {
      "cell_type": "code",
      "metadata": {
        "id": "G1ljJzCm7wYK"
      },
      "source": [
        "stratified_test_data.drop(['class'],1,inplace=True)"
      ],
      "execution_count": 15,
      "outputs": []
    },
    {
      "cell_type": "markdown",
      "metadata": {
        "id": "ohdqmQ0SAVOw"
      },
      "source": [
        "#Using Stratified Train data"
      ]
    },
    {
      "cell_type": "markdown",
      "metadata": {
        "id": "zDzzNutr3AQg"
      },
      "source": [
        "LabelEncoding the data as ml model does not accept non numerical values"
      ]
    },
    {
      "cell_type": "code",
      "metadata": {
        "id": "UXUhTV-Q7zii"
      },
      "source": [
        "le = LabelEncoder()\r\n",
        "stratified_train_data[[\"cap-shape\",'cap-surface','cap-color','bruises','odor','gill-attachment','gill-spacing','gill-size','gill-color','stalk-shape','stalk-root','stalk-surface-above-ring','stalk-surface-below-ring','stalk-color-above-ring','stalk-color-below-ring','veil-type','veil-color','ring-number','ring-type','spore-print-color','population','habitat']] = stratified_train_data[[\"cap-shape\",'cap-surface','cap-color','bruises','odor','gill-attachment','gill-spacing','gill-size','gill-color','stalk-shape','stalk-root','stalk-surface-above-ring','stalk-surface-below-ring','stalk-color-above-ring','stalk-color-below-ring','veil-type','veil-color','ring-number','ring-type','spore-print-color','population','habitat']].apply(le.fit_transform)"
      ],
      "execution_count": 16,
      "outputs": []
    },
    {
      "cell_type": "code",
      "metadata": {
        "id": "IcRD0lLC72wr"
      },
      "source": [
        "stratified_train_data['class'] = stratified_train_data['class'].replace('p',0)\r\n",
        "stratified_train_data['class'] = stratified_train_data['class'].replace('e',1)"
      ],
      "execution_count": 17,
      "outputs": []
    },
    {
      "cell_type": "markdown",
      "metadata": {
        "id": "D0tvWjbM4qRs"
      },
      "source": [
        "Creating a Pearson Correlation function for deleting column with above threshold value. In this case I have chosen 0.6 or 60%"
      ]
    },
    {
      "cell_type": "code",
      "metadata": {
        "id": "hEwPJorH74X5"
      },
      "source": [
        "def correlation(dataset, threshold):\r\n",
        "    col_corr = set()  # Set of all the names of correlated columns\r\n",
        "    corr_matrix = dataset.corr()\r\n",
        "    for i in range(len(corr_matrix.columns)):\r\n",
        "        for j in range(i):\r\n",
        "            if (corr_matrix.iloc[i, j]) > threshold: # we are interested in absolute coeff value\r\n",
        "                colname = corr_matrix.columns[i]  # getting the name of column\r\n",
        "                col_corr.add(colname)\r\n",
        "    return col_corr"
      ],
      "execution_count": 18,
      "outputs": []
    },
    {
      "cell_type": "code",
      "metadata": {
        "colab": {
          "base_uri": "https://localhost:8080/"
        },
        "id": "niGHuRJX78Tq",
        "outputId": "82239a27-0c87-4ca4-c9e9-199c68b3f1ac"
      },
      "source": [
        "corr_features = correlation(stratified_train_data.iloc[:,:22], 0.6)\r\n",
        "print(\"Number of correlated features are :\",len(set(corr_features)))\r\n",
        "print(\"Independent correlated features are to be deleted are :\",corr_features)"
      ],
      "execution_count": 19,
      "outputs": [
        {
          "output_type": "stream",
          "text": [
            "Number of correlated features are : 3\n",
            "Independent correlated features are to be deleted are : {'veil-color', 'spore-print-color', 'ring-type'}\n"
          ],
          "name": "stdout"
        }
      ]
    },
    {
      "cell_type": "markdown",
      "metadata": {
        "id": "LpMGoGG347-e"
      },
      "source": [
        "Deleting columns which have feature to target correlation between -0.1 to 0.1 as they are very less correlated to target."
      ]
    },
    {
      "cell_type": "code",
      "metadata": {
        "colab": {
          "base_uri": "https://localhost:8080/"
        },
        "id": "K5363Zob7_CF",
        "outputId": "f414cec1-67d3-4f6a-b7c8-f585c98770de"
      },
      "source": [
        "print('FEATURES CORRELATION TO TARGET VALUES :')\r\n",
        "train_data_corr = stratified_train_data[stratified_train_data.columns[1:]].corr()['class'][:]\r\n",
        "print(train_data_corr)\r\n",
        "print(\"====================================\")\r\n",
        "print('DELETING FETAURES THAT ARE LESS CORRELATED TO TARGET VARIABLES BETWEEN -0.1 & 0.1')\r\n",
        "train_data_corr.drop(train_data_corr[(train_data_corr.values > -0.1 ) & (train_data_corr.values < 0.1)].index, inplace=True)\r\n",
        "print(train_data_corr)\r\n",
        "print(\"====================================\")\r\n",
        "print(\"PRINTING THE DELETED COLUMN NAMES\")\r\n",
        "new_train_data = stratified_train_data.columns[~stratified_train_data.columns.isin(train_data_corr.index)]\r\n",
        "print(new_train_data)"
      ],
      "execution_count": 20,
      "outputs": [
        {
          "output_type": "stream",
          "text": [
            "FEATURES CORRELATION TO TARGET VALUES :\n",
            "cap-surface                -0.170059\n",
            "cap-color                   0.027250\n",
            "bruises                     0.502622\n",
            "odor                        0.103750\n",
            "gill-attachment            -0.128577\n",
            "gill-spacing                0.348833\n",
            "gill-size                  -0.532492\n",
            "gill-color                  0.528905\n",
            "stalk-shape                 0.103800\n",
            "stalk-root                  0.382755\n",
            "stalk-surface-above-ring    0.346465\n",
            "stalk-surface-below-ring    0.304028\n",
            "stalk-color-above-ring      0.156374\n",
            "stalk-color-below-ring      0.144807\n",
            "veil-type                        NaN\n",
            "veil-color                 -0.142394\n",
            "ring-number                 0.212424\n",
            "ring-type                   0.409313\n",
            "spore-print-color          -0.164141\n",
            "population                 -0.300369\n",
            "habitat                    -0.208714\n",
            "class                       1.000000\n",
            "Name: class, dtype: float64\n",
            "====================================\n",
            "DELETING FETAURES THAT ARE LESS CORRELATED TO TARGET VARIABLES BETWEEN -0.1 & 0.1\n",
            "cap-surface                -0.170059\n",
            "bruises                     0.502622\n",
            "odor                        0.103750\n",
            "gill-attachment            -0.128577\n",
            "gill-spacing                0.348833\n",
            "gill-size                  -0.532492\n",
            "gill-color                  0.528905\n",
            "stalk-shape                 0.103800\n",
            "stalk-root                  0.382755\n",
            "stalk-surface-above-ring    0.346465\n",
            "stalk-surface-below-ring    0.304028\n",
            "stalk-color-above-ring      0.156374\n",
            "stalk-color-below-ring      0.144807\n",
            "veil-type                        NaN\n",
            "veil-color                 -0.142394\n",
            "ring-number                 0.212424\n",
            "ring-type                   0.409313\n",
            "spore-print-color          -0.164141\n",
            "population                 -0.300369\n",
            "habitat                    -0.208714\n",
            "class                       1.000000\n",
            "Name: class, dtype: float64\n",
            "====================================\n",
            "PRINTING THE DELETED COLUMN NAMES\n",
            "Index(['cap-shape', 'cap-color'], dtype='object')\n"
          ],
          "name": "stdout"
        }
      ]
    },
    {
      "cell_type": "code",
      "metadata": {
        "id": "xSGyxC_T8Bgj"
      },
      "source": [
        "#DELETING ALL THE UNWANTED COLUMNS AND ALSO DELETING THE 'veil-type' COLUMN AS IT IS USELESS FOR US\r\n",
        "stratified_train_data.drop(['cap-shape','cap-color','veil-type','veil-color', 'spore-print-color', 'ring-type'],1,inplace=True)"
      ],
      "execution_count": 21,
      "outputs": []
    },
    {
      "cell_type": "code",
      "metadata": {
        "id": "LZepZXOc8GwK"
      },
      "source": [
        "X = stratified_train_data.drop('class',1)\r\n",
        "y = stratified_train_data['class']"
      ],
      "execution_count": 22,
      "outputs": []
    },
    {
      "cell_type": "markdown",
      "metadata": {
        "id": "i8zFaBc15jc-"
      },
      "source": [
        "#Feature Selection"
      ]
    },
    {
      "cell_type": "markdown",
      "metadata": {
        "id": "sSnEIE8d5mTv"
      },
      "source": [
        "###Using SelectKBest library of sklearn to select features that are most important using chi-square hypothesis testing.\r\n",
        "\r\n",
        "\r\n",
        "> chi sqaure hypothesis testing uses two columns for working. Here Two columns will be feature and another is target.\r\n",
        "\r\n",
        "\r\n",
        "> This will be done iteratively with every feature until the k value of SelectKBest is reached.\r\n",
        "\r\n",
        "\r\n",
        "\r\n"
      ]
    },
    {
      "cell_type": "code",
      "metadata": {
        "id": "6ppLNaQEte6j"
      },
      "source": [
        "select_K_Best = SelectKBest(k=9, score_func=chi2)\r\n",
        "selected_features = select_K_Best.fit(X, y)\r\n",
        "indices_selected = selected_features.get_support(indices=True)\r\n",
        "colnames_selected = [X.columns[i] for i in indices_selected]\r\n",
        "\r\n",
        "X = X[colnames_selected]"
      ],
      "execution_count": 23,
      "outputs": []
    },
    {
      "cell_type": "code",
      "metadata": {
        "colab": {
          "base_uri": "https://localhost:8080/"
        },
        "id": "w6WBFE7cte0Y",
        "outputId": "a24aa473-c8b6-4f7a-be01-1655ba89611a"
      },
      "source": [
        "print(\"The 9 most important features chosen by SelectKBest are  \\n {}: \".format(X.columns))"
      ],
      "execution_count": 24,
      "outputs": [
        {
          "output_type": "stream",
          "text": [
            "The 9 most important features chosen by SelectKBest are  \n",
            " Index(['bruises', 'gill-spacing', 'gill-size', 'gill-color', 'stalk-root',\n",
            "       'stalk-surface-above-ring', 'stalk-surface-below-ring', 'population',\n",
            "       'habitat'],\n",
            "      dtype='object'): \n"
          ],
          "name": "stdout"
        }
      ]
    },
    {
      "cell_type": "markdown",
      "metadata": {
        "id": "TmSuVwst9IA6"
      },
      "source": [
        "#Calculating Multicollinearity in data"
      ]
    },
    {
      "cell_type": "code",
      "metadata": {
        "id": "KWygo2tG8Pq-"
      },
      "source": [
        "def calc_vif(X):\r\n",
        "    vif = pd.DataFrame()\r\n",
        "    vif[\"variables\"] = X.columns\r\n",
        "    vif[\"VIF\"] = [variance_inflation_factor(X.values, i) for i in range(X.shape[1])]\r\n",
        "\r\n",
        "    return(vif)"
      ],
      "execution_count": 25,
      "outputs": []
    },
    {
      "cell_type": "code",
      "metadata": {
        "colab": {
          "base_uri": "https://localhost:8080/",
          "height": 306
        },
        "id": "Hd2LUIOLwzW0",
        "outputId": "f0c81fd9-ef3b-49d9-8bc6-38cdf6548f54"
      },
      "source": [
        "calc_vif(X)"
      ],
      "execution_count": 26,
      "outputs": [
        {
          "output_type": "execute_result",
          "data": {
            "text/html": [
              "<div>\n",
              "<style scoped>\n",
              "    .dataframe tbody tr th:only-of-type {\n",
              "        vertical-align: middle;\n",
              "    }\n",
              "\n",
              "    .dataframe tbody tr th {\n",
              "        vertical-align: top;\n",
              "    }\n",
              "\n",
              "    .dataframe thead th {\n",
              "        text-align: right;\n",
              "    }\n",
              "</style>\n",
              "<table border=\"1\" class=\"dataframe\">\n",
              "  <thead>\n",
              "    <tr style=\"text-align: right;\">\n",
              "      <th></th>\n",
              "      <th>variables</th>\n",
              "      <th>VIF</th>\n",
              "    </tr>\n",
              "  </thead>\n",
              "  <tbody>\n",
              "    <tr>\n",
              "      <th>0</th>\n",
              "      <td>bruises</td>\n",
              "      <td>4.007467</td>\n",
              "    </tr>\n",
              "    <tr>\n",
              "      <th>1</th>\n",
              "      <td>gill-spacing</td>\n",
              "      <td>1.938536</td>\n",
              "    </tr>\n",
              "    <tr>\n",
              "      <th>2</th>\n",
              "      <td>gill-size</td>\n",
              "      <td>2.428025</td>\n",
              "    </tr>\n",
              "    <tr>\n",
              "      <th>3</th>\n",
              "      <td>gill-color</td>\n",
              "      <td>5.251056</td>\n",
              "    </tr>\n",
              "    <tr>\n",
              "      <th>4</th>\n",
              "      <td>stalk-root</td>\n",
              "      <td>2.949227</td>\n",
              "    </tr>\n",
              "    <tr>\n",
              "      <th>5</th>\n",
              "      <td>stalk-surface-above-ring</td>\n",
              "      <td>9.816239</td>\n",
              "    </tr>\n",
              "    <tr>\n",
              "      <th>6</th>\n",
              "      <td>stalk-surface-below-ring</td>\n",
              "      <td>8.716693</td>\n",
              "    </tr>\n",
              "    <tr>\n",
              "      <th>7</th>\n",
              "      <td>population</td>\n",
              "      <td>6.470887</td>\n",
              "    </tr>\n",
              "    <tr>\n",
              "      <th>8</th>\n",
              "      <td>habitat</td>\n",
              "      <td>1.743598</td>\n",
              "    </tr>\n",
              "  </tbody>\n",
              "</table>\n",
              "</div>"
            ],
            "text/plain": [
              "                  variables       VIF\n",
              "0                   bruises  4.007467\n",
              "1              gill-spacing  1.938536\n",
              "2                 gill-size  2.428025\n",
              "3                gill-color  5.251056\n",
              "4                stalk-root  2.949227\n",
              "5  stalk-surface-above-ring  9.816239\n",
              "6  stalk-surface-below-ring  8.716693\n",
              "7                population  6.470887\n",
              "8                   habitat  1.743598"
            ]
          },
          "metadata": {
            "tags": []
          },
          "execution_count": 26
        }
      ]
    },
    {
      "cell_type": "code",
      "metadata": {
        "colab": {
          "base_uri": "https://localhost:8080/"
        },
        "id": "z-l9ajsv7iUl",
        "outputId": "c6fa4ec4-4bdc-4af6-d3e9-b64301c6e298"
      },
      "source": [
        "X['stalk-surface'] = X['stalk-surface-above-ring'] + X['stalk-surface-below-ring']\r\n",
        "X['stalk-surface']"
      ],
      "execution_count": 27,
      "outputs": [
        {
          "output_type": "execute_result",
          "data": {
            "text/plain": [
              "5249    2\n",
              "5781    4\n",
              "7586    3\n",
              "6181    2\n",
              "7338    3\n",
              "       ..\n",
              "6150    4\n",
              "5386    0\n",
              "1357    4\n",
              "2977    4\n",
              "2411    4\n",
              "Name: stalk-surface, Length: 6499, dtype: int64"
            ]
          },
          "metadata": {
            "tags": []
          },
          "execution_count": 27
        }
      ]
    },
    {
      "cell_type": "code",
      "metadata": {
        "colab": {
          "base_uri": "https://localhost:8080/",
          "height": 191
        },
        "id": "8zgKlhBxNHP8",
        "outputId": "a63add25-10ea-4430-8e88-e4db750dc638"
      },
      "source": [
        "X.head()"
      ],
      "execution_count": 28,
      "outputs": [
        {
          "output_type": "execute_result",
          "data": {
            "text/html": [
              "<div>\n",
              "<style scoped>\n",
              "    .dataframe tbody tr th:only-of-type {\n",
              "        vertical-align: middle;\n",
              "    }\n",
              "\n",
              "    .dataframe tbody tr th {\n",
              "        vertical-align: top;\n",
              "    }\n",
              "\n",
              "    .dataframe thead th {\n",
              "        text-align: right;\n",
              "    }\n",
              "</style>\n",
              "<table border=\"1\" class=\"dataframe\">\n",
              "  <thead>\n",
              "    <tr style=\"text-align: right;\">\n",
              "      <th></th>\n",
              "      <th>bruises</th>\n",
              "      <th>gill-spacing</th>\n",
              "      <th>gill-size</th>\n",
              "      <th>gill-color</th>\n",
              "      <th>stalk-root</th>\n",
              "      <th>stalk-surface-above-ring</th>\n",
              "      <th>stalk-surface-below-ring</th>\n",
              "      <th>population</th>\n",
              "      <th>habitat</th>\n",
              "      <th>stalk-surface</th>\n",
              "    </tr>\n",
              "  </thead>\n",
              "  <tbody>\n",
              "    <tr>\n",
              "      <th>5249</th>\n",
              "      <td>0</td>\n",
              "      <td>0</td>\n",
              "      <td>0</td>\n",
              "      <td>2</td>\n",
              "      <td>1</td>\n",
              "      <td>1</td>\n",
              "      <td>1</td>\n",
              "      <td>5</td>\n",
              "      <td>1</td>\n",
              "      <td>2</td>\n",
              "    </tr>\n",
              "    <tr>\n",
              "      <th>5781</th>\n",
              "      <td>1</td>\n",
              "      <td>0</td>\n",
              "      <td>0</td>\n",
              "      <td>1</td>\n",
              "      <td>0</td>\n",
              "      <td>2</td>\n",
              "      <td>2</td>\n",
              "      <td>1</td>\n",
              "      <td>6</td>\n",
              "      <td>4</td>\n",
              "    </tr>\n",
              "    <tr>\n",
              "      <th>7586</th>\n",
              "      <td>0</td>\n",
              "      <td>1</td>\n",
              "      <td>0</td>\n",
              "      <td>10</td>\n",
              "      <td>0</td>\n",
              "      <td>1</td>\n",
              "      <td>2</td>\n",
              "      <td>3</td>\n",
              "      <td>1</td>\n",
              "      <td>3</td>\n",
              "    </tr>\n",
              "    <tr>\n",
              "      <th>6181</th>\n",
              "      <td>0</td>\n",
              "      <td>0</td>\n",
              "      <td>1</td>\n",
              "      <td>0</td>\n",
              "      <td>0</td>\n",
              "      <td>1</td>\n",
              "      <td>1</td>\n",
              "      <td>4</td>\n",
              "      <td>0</td>\n",
              "      <td>2</td>\n",
              "    </tr>\n",
              "    <tr>\n",
              "      <th>7338</th>\n",
              "      <td>0</td>\n",
              "      <td>0</td>\n",
              "      <td>1</td>\n",
              "      <td>0</td>\n",
              "      <td>0</td>\n",
              "      <td>2</td>\n",
              "      <td>1</td>\n",
              "      <td>4</td>\n",
              "      <td>4</td>\n",
              "      <td>3</td>\n",
              "    </tr>\n",
              "  </tbody>\n",
              "</table>\n",
              "</div>"
            ],
            "text/plain": [
              "      bruises  gill-spacing  gill-size  ...  population  habitat  stalk-surface\n",
              "5249        0             0          0  ...           5        1              2\n",
              "5781        1             0          0  ...           1        6              4\n",
              "7586        0             1          0  ...           3        1              3\n",
              "6181        0             0          1  ...           4        0              2\n",
              "7338        0             0          1  ...           4        4              3\n",
              "\n",
              "[5 rows x 10 columns]"
            ]
          },
          "metadata": {
            "tags": []
          },
          "execution_count": 28
        }
      ]
    },
    {
      "cell_type": "code",
      "metadata": {
        "id": "fqJL0E7H2hDC"
      },
      "source": [
        "X.drop(['stalk-surface-above-ring','stalk-surface-below-ring'],1,inplace= True)"
      ],
      "execution_count": 29,
      "outputs": []
    },
    {
      "cell_type": "code",
      "metadata": {
        "colab": {
          "base_uri": "https://localhost:8080/",
          "height": 277
        },
        "id": "GvTIozR0204c",
        "outputId": "f4e676cd-ec24-44e6-f30c-d159831c5d25"
      },
      "source": [
        "calc_vif(X)"
      ],
      "execution_count": 30,
      "outputs": [
        {
          "output_type": "execute_result",
          "data": {
            "text/html": [
              "<div>\n",
              "<style scoped>\n",
              "    .dataframe tbody tr th:only-of-type {\n",
              "        vertical-align: middle;\n",
              "    }\n",
              "\n",
              "    .dataframe tbody tr th {\n",
              "        vertical-align: top;\n",
              "    }\n",
              "\n",
              "    .dataframe thead th {\n",
              "        text-align: right;\n",
              "    }\n",
              "</style>\n",
              "<table border=\"1\" class=\"dataframe\">\n",
              "  <thead>\n",
              "    <tr style=\"text-align: right;\">\n",
              "      <th></th>\n",
              "      <th>variables</th>\n",
              "      <th>VIF</th>\n",
              "    </tr>\n",
              "  </thead>\n",
              "  <tbody>\n",
              "    <tr>\n",
              "      <th>0</th>\n",
              "      <td>bruises</td>\n",
              "      <td>3.986924</td>\n",
              "    </tr>\n",
              "    <tr>\n",
              "      <th>1</th>\n",
              "      <td>gill-spacing</td>\n",
              "      <td>1.918010</td>\n",
              "    </tr>\n",
              "    <tr>\n",
              "      <th>2</th>\n",
              "      <td>gill-size</td>\n",
              "      <td>2.426368</td>\n",
              "    </tr>\n",
              "    <tr>\n",
              "      <th>3</th>\n",
              "      <td>gill-color</td>\n",
              "      <td>5.250652</td>\n",
              "    </tr>\n",
              "    <tr>\n",
              "      <th>4</th>\n",
              "      <td>stalk-root</td>\n",
              "      <td>2.917615</td>\n",
              "    </tr>\n",
              "    <tr>\n",
              "      <th>5</th>\n",
              "      <td>population</td>\n",
              "      <td>6.426777</td>\n",
              "    </tr>\n",
              "    <tr>\n",
              "      <th>6</th>\n",
              "      <td>habitat</td>\n",
              "      <td>1.742762</td>\n",
              "    </tr>\n",
              "    <tr>\n",
              "      <th>7</th>\n",
              "      <td>stalk-surface</td>\n",
              "      <td>11.087681</td>\n",
              "    </tr>\n",
              "  </tbody>\n",
              "</table>\n",
              "</div>"
            ],
            "text/plain": [
              "       variables        VIF\n",
              "0        bruises   3.986924\n",
              "1   gill-spacing   1.918010\n",
              "2      gill-size   2.426368\n",
              "3     gill-color   5.250652\n",
              "4     stalk-root   2.917615\n",
              "5     population   6.426777\n",
              "6        habitat   1.742762\n",
              "7  stalk-surface  11.087681"
            ]
          },
          "metadata": {
            "tags": []
          },
          "execution_count": 30
        }
      ]
    },
    {
      "cell_type": "code",
      "metadata": {
        "colab": {
          "base_uri": "https://localhost:8080/",
          "height": 277
        },
        "id": "C7nEVq_Io4YN",
        "outputId": "1ee04026-8b66-4a99-deba-b0e9f2506507"
      },
      "source": [
        "skewness_of_df = pd.DataFrame(X.skew())\r\n",
        "skewness_of_df\r\n",
        "#Models like linear regression and logistic regression assume that data follows gaussian distribution so to use that we transform skewed data to normal distributed \r\n",
        "#data. But SVM, Neural Network, Tree based and boosting does not require to transform data."
      ],
      "execution_count": 31,
      "outputs": [
        {
          "output_type": "execute_result",
          "data": {
            "text/html": [
              "<div>\n",
              "<style scoped>\n",
              "    .dataframe tbody tr th:only-of-type {\n",
              "        vertical-align: middle;\n",
              "    }\n",
              "\n",
              "    .dataframe tbody tr th {\n",
              "        vertical-align: top;\n",
              "    }\n",
              "\n",
              "    .dataframe thead th {\n",
              "        text-align: right;\n",
              "    }\n",
              "</style>\n",
              "<table border=\"1\" class=\"dataframe\">\n",
              "  <thead>\n",
              "    <tr style=\"text-align: right;\">\n",
              "      <th></th>\n",
              "      <th>0</th>\n",
              "    </tr>\n",
              "  </thead>\n",
              "  <tbody>\n",
              "    <tr>\n",
              "      <th>bruises</th>\n",
              "      <td>0.340656</td>\n",
              "    </tr>\n",
              "    <tr>\n",
              "      <th>gill-spacing</th>\n",
              "      <td>1.850354</td>\n",
              "    </tr>\n",
              "    <tr>\n",
              "      <th>gill-size</th>\n",
              "      <td>0.848214</td>\n",
              "    </tr>\n",
              "    <tr>\n",
              "      <th>gill-color</th>\n",
              "      <td>0.054365</td>\n",
              "    </tr>\n",
              "    <tr>\n",
              "      <th>stalk-root</th>\n",
              "      <td>0.954369</td>\n",
              "    </tr>\n",
              "    <tr>\n",
              "      <th>population</th>\n",
              "      <td>-1.406713</td>\n",
              "    </tr>\n",
              "    <tr>\n",
              "      <th>habitat</th>\n",
              "      <td>1.002786</td>\n",
              "    </tr>\n",
              "    <tr>\n",
              "      <th>stalk-surface</th>\n",
              "      <td>-0.812195</td>\n",
              "    </tr>\n",
              "  </tbody>\n",
              "</table>\n",
              "</div>"
            ],
            "text/plain": [
              "                      0\n",
              "bruises        0.340656\n",
              "gill-spacing   1.850354\n",
              "gill-size      0.848214\n",
              "gill-color     0.054365\n",
              "stalk-root     0.954369\n",
              "population    -1.406713\n",
              "habitat        1.002786\n",
              "stalk-surface -0.812195"
            ]
          },
          "metadata": {
            "tags": []
          },
          "execution_count": 31
        }
      ]
    },
    {
      "cell_type": "code",
      "metadata": {
        "id": "ahUDb8SbWYge"
      },
      "source": [
        "def boxcox_transformation(df,column):\r\n",
        "  try:\r\n",
        "    for column in df:\r\n",
        "      if ((df[column].skew() > 1.0) or (df[column].skew() < -1.0).any()):\r\n",
        "        plt.figure(figsize=(15,6))\r\n",
        "        plt.subplot(1, 2, 1)\r\n",
        "        df[column].hist()\r\n",
        "\r\n",
        "        plt.subplot(1, 2, 2)\r\n",
        "        stats.probplot(df[column], dist=\"norm\", plot=plt)\r\n",
        "        print(df[column].skew())\r\n",
        " \r\n",
        "        df[column], params = stats.boxcox(df[column]+1)\r\n",
        "\r\n",
        "        plt.figure(figsize=(15,6))\r\n",
        "        plt.subplot(2, 2, 1)\r\n",
        "        df[column].hist()\r\n",
        "\r\n",
        "        plt.subplot(2, 2, 2)\r\n",
        "        stats.probplot(df[column], dist=\"norm\", plot=plt)\r\n",
        "        print(data[column].skew())\r\n",
        "\r\n",
        "        return boxcox_transformation\r\n",
        "  except TypeError:\r\n",
        "       print(\"\")\r\n"
      ],
      "execution_count": 32,
      "outputs": []
    },
    {
      "cell_type": "code",
      "metadata": {
        "colab": {
          "base_uri": "https://localhost:8080/",
          "height": 645
        },
        "id": "5zMO5JcNWpzo",
        "outputId": "fd2bc7fd-869b-4138-ed51-32e8d1128e33"
      },
      "source": [
        "column = ['bruises','gill-spacing','gill-size','gill-color','stalk-root','population','habitat','stalk-surface']\r\n",
        "boxcox_transformation(X,column)"
      ],
      "execution_count": 33,
      "outputs": [
        {
          "output_type": "stream",
          "text": [
            "1.850354103716838\n",
            "\n"
          ],
          "name": "stdout"
        },
        {
          "output_type": "display_data",
          "data": {
            "image/png": "[encoded data removed]",
            "text/plain": [
              "<Figure size 1080x432 with 2 Axes>"
            ]
          },
          "metadata": {
            "tags": [],
            "needs_background": "light"
          }
        },
        {
          "output_type": "display_data",
          "data": {
            "image/png": "[encoded data removed]",
            "text/plain": [
              "<Figure size 1080x432 with 2 Axes>"
            ]
          },
          "metadata": {
            "tags": [],
            "needs_background": "light"
          }
        }
      ]
    },
    {
      "cell_type": "markdown",
      "metadata": {
        "id": "v2AjMh9Z9Z6b"
      },
      "source": [
        "#Applying Principal Component Analysis (PCA), this helps to handle multicollinearity in data as column stalk-surface has high multicollinearity."
      ]
    },
    {
      "cell_type": "code",
      "metadata": {
        "colab": {
          "base_uri": "https://localhost:8080/",
          "height": 391
        },
        "id": "VUD0kaoTBdEZ",
        "outputId": "9efed810-7264-421a-bff8-1a098a4ac2e3"
      },
      "source": [
        "pca = PCA(n_components = 7,random_state=42)\r\n",
        "transformed_data = pca.fit_transform(X)\r\n",
        "X = pd.DataFrame(data = transformed_data, columns = ['PCA1','PCA2','PCA3','PCA4','PCA5','PCA6','PCA7'])\r\n",
        "X"
      ],
      "execution_count": 34,
      "outputs": [
        {
          "output_type": "execute_result",
          "data": {
            "text/html": [
              "<div>\n",
              "<style scoped>\n",
              "    .dataframe tbody tr th:only-of-type {\n",
              "        vertical-align: middle;\n",
              "    }\n",
              "\n",
              "    .dataframe tbody tr th {\n",
              "        vertical-align: top;\n",
              "    }\n",
              "\n",
              "    .dataframe thead th {\n",
              "        text-align: right;\n",
              "    }\n",
              "</style>\n",
              "<table border=\"1\" class=\"dataframe\">\n",
              "  <thead>\n",
              "    <tr style=\"text-align: right;\">\n",
              "      <th></th>\n",
              "      <th>PCA1</th>\n",
              "      <th>PCA2</th>\n",
              "      <th>PCA3</th>\n",
              "      <th>PCA4</th>\n",
              "      <th>PCA5</th>\n",
              "      <th>PCA6</th>\n",
              "      <th>PCA7</th>\n",
              "    </tr>\n",
              "  </thead>\n",
              "  <tbody>\n",
              "    <tr>\n",
              "      <th>0</th>\n",
              "      <td>-2.852648</td>\n",
              "      <td>-1.174788</td>\n",
              "      <td>-0.435921</td>\n",
              "      <td>1.109816</td>\n",
              "      <td>0.779863</td>\n",
              "      <td>-0.271186</td>\n",
              "      <td>0.335035</td>\n",
              "    </tr>\n",
              "    <tr>\n",
              "      <th>1</th>\n",
              "      <td>-4.216727</td>\n",
              "      <td>4.535064</td>\n",
              "      <td>0.259920</td>\n",
              "      <td>-1.418893</td>\n",
              "      <td>-1.642736</td>\n",
              "      <td>-1.054551</td>\n",
              "      <td>-0.083650</td>\n",
              "    </tr>\n",
              "    <tr>\n",
              "      <th>2</th>\n",
              "      <td>4.990988</td>\n",
              "      <td>0.083099</td>\n",
              "      <td>-0.046806</td>\n",
              "      <td>0.869147</td>\n",
              "      <td>-1.742214</td>\n",
              "      <td>0.301655</td>\n",
              "      <td>0.394892</td>\n",
              "    </tr>\n",
              "    <tr>\n",
              "      <th>3</th>\n",
              "      <td>-4.847240</td>\n",
              "      <td>-2.128932</td>\n",
              "      <td>0.281968</td>\n",
              "      <td>0.636217</td>\n",
              "      <td>-0.499218</td>\n",
              "      <td>0.199307</td>\n",
              "      <td>-0.381923</td>\n",
              "    </tr>\n",
              "    <tr>\n",
              "      <th>4</th>\n",
              "      <td>-5.224548</td>\n",
              "      <td>1.626394</td>\n",
              "      <td>-1.210777</td>\n",
              "      <td>0.000590</td>\n",
              "      <td>-0.348756</td>\n",
              "      <td>0.238290</td>\n",
              "      <td>-0.068828</td>\n",
              "    </tr>\n",
              "    <tr>\n",
              "      <th>...</th>\n",
              "      <td>...</td>\n",
              "      <td>...</td>\n",
              "      <td>...</td>\n",
              "      <td>...</td>\n",
              "      <td>...</td>\n",
              "      <td>...</td>\n",
              "      <td>...</td>\n",
              "    </tr>\n",
              "    <tr>\n",
              "      <th>6494</th>\n",
              "      <td>-4.658229</td>\n",
              "      <td>-2.127793</td>\n",
              "      <td>-0.219805</td>\n",
              "      <td>-1.239353</td>\n",
              "      <td>-0.558993</td>\n",
              "      <td>0.345851</td>\n",
              "      <td>0.029950</td>\n",
              "    </tr>\n",
              "    <tr>\n",
              "      <th>6495</th>\n",
              "      <td>4.610432</td>\n",
              "      <td>0.836167</td>\n",
              "      <td>-0.051971</td>\n",
              "      <td>3.780697</td>\n",
              "      <td>-0.327814</td>\n",
              "      <td>0.961868</td>\n",
              "      <td>-0.777489</td>\n",
              "    </tr>\n",
              "    <tr>\n",
              "      <th>6496</th>\n",
              "      <td>2.472546</td>\n",
              "      <td>1.089214</td>\n",
              "      <td>3.592818</td>\n",
              "      <td>-1.447048</td>\n",
              "      <td>-0.326587</td>\n",
              "      <td>0.453362</td>\n",
              "      <td>0.442935</td>\n",
              "    </tr>\n",
              "    <tr>\n",
              "      <th>6497</th>\n",
              "      <td>5.356583</td>\n",
              "      <td>-1.328751</td>\n",
              "      <td>-1.216941</td>\n",
              "      <td>-0.036083</td>\n",
              "      <td>0.082190</td>\n",
              "      <td>-0.107148</td>\n",
              "      <td>-0.049556</td>\n",
              "    </tr>\n",
              "    <tr>\n",
              "      <th>6498</th>\n",
              "      <td>2.430810</td>\n",
              "      <td>-1.311712</td>\n",
              "      <td>-0.224461</td>\n",
              "      <td>-0.619375</td>\n",
              "      <td>-0.135763</td>\n",
              "      <td>-0.361480</td>\n",
              "      <td>-0.095024</td>\n",
              "    </tr>\n",
              "  </tbody>\n",
              "</table>\n",
              "<p>6499 rows × 7 columns</p>\n",
              "</div>"
            ],
            "text/plain": [
              "          PCA1      PCA2      PCA3      PCA4      PCA5      PCA6      PCA7\n",
              "0    -2.852648 -1.174788 -0.435921  1.109816  0.779863 -0.271186  0.335035\n",
              "1    -4.216727  4.535064  0.259920 -1.418893 -1.642736 -1.054551 -0.083650\n",
              "2     4.990988  0.083099 -0.046806  0.869147 -1.742214  0.301655  0.394892\n",
              "3    -4.847240 -2.128932  0.281968  0.636217 -0.499218  0.199307 -0.381923\n",
              "4    -5.224548  1.626394 -1.210777  0.000590 -0.348756  0.238290 -0.068828\n",
              "...        ...       ...       ...       ...       ...       ...       ...\n",
              "6494 -4.658229 -2.127793 -0.219805 -1.239353 -0.558993  0.345851  0.029950\n",
              "6495  4.610432  0.836167 -0.051971  3.780697 -0.327814  0.961868 -0.777489\n",
              "6496  2.472546  1.089214  3.592818 -1.447048 -0.326587  0.453362  0.442935\n",
              "6497  5.356583 -1.328751 -1.216941 -0.036083  0.082190 -0.107148 -0.049556\n",
              "6498  2.430810 -1.311712 -0.224461 -0.619375 -0.135763 -0.361480 -0.095024\n",
              "\n",
              "[6499 rows x 7 columns]"
            ]
          },
          "metadata": {
            "tags": []
          },
          "execution_count": 34
        }
      ]
    },
    {
      "cell_type": "code",
      "metadata": {
        "colab": {
          "base_uri": "https://localhost:8080/"
        },
        "id": "GfCxDWJNBc_t",
        "outputId": "046e1e8c-d0cc-46bf-a802-1601121d6f3c"
      },
      "source": [
        "print(pca.explained_variance_ratio_)\r\n",
        "print(pca.noise_variance_)"
      ],
      "execution_count": 35,
      "outputs": [
        {
          "output_type": "stream",
          "text": [
            "[0.65682105 0.14943321 0.08379851 0.05614068 0.04071958 0.00848443\n",
            " 0.00456146]\n",
            "0.000814884859655534\n"
          ],
          "name": "stdout"
        }
      ]
    },
    {
      "cell_type": "code",
      "metadata": {
        "id": "T3eljjuDQbyI"
      },
      "source": [
        "X_train, X_test, y_train, y_test = tts(X, y, random_state=42,test_size=0.3)"
      ],
      "execution_count": 36,
      "outputs": []
    },
    {
      "cell_type": "code",
      "metadata": {
        "id": "e7LHdk0d8xSL"
      },
      "source": [
        "sc = StandardScaler()\r\n",
        "X_train = sc.fit_transform(X_train)\r\n",
        "X_test = sc.transform(X_test)"
      ],
      "execution_count": 37,
      "outputs": []
    },
    {
      "cell_type": "code",
      "metadata": {
        "id": "TlfGeKIl82tq"
      },
      "source": [
        "def evaluate(model, X_test, y_test, X_train, y_train):\r\n",
        "    y_pred = model.predict(X_test)\r\n",
        "    errors = abs(y_pred - y_test)\r\n",
        "    print('Average Error: {:0.4f} degrees.'.format(np.mean(errors)))\r\n",
        "    print(classification_report(y_test,y_pred))\r\n",
        "    print(confusion_matrix(y_test,y_pred))\r\n",
        "    print('Recall Score = ',recall_score(y_test, y_pred))\r\n",
        "    print('Precision Score = ',precision_score(y_test, y_pred))\r\n",
        "\r\n",
        "    return evaluate"
      ],
      "execution_count": 38,
      "outputs": []
    },
    {
      "cell_type": "code",
      "metadata": {
        "id": "PztNKeTE84h0"
      },
      "source": [
        "def train_auc_roc_curve(model, X_test, y_test, X_train, y_train):\r\n",
        "  y_pred = model.predict(X_test)\r\n",
        "  print(\"roc curve :\",roc_curve(y_test,y_pred))\r\n",
        "  base_fpr,base_tpr,base_threshold = roc_curve(y_train, model.predict(X_train))\r\n",
        "  plt.plot([0,1])\r\n",
        "  plt.plot(base_fpr,base_tpr)\r\n",
        "  print(\"auc score :\",auc(base_fpr,base_tpr))\r\n",
        "\r\n",
        "  return train_auc_roc_curve"
      ],
      "execution_count": 39,
      "outputs": []
    },
    {
      "cell_type": "code",
      "metadata": {
        "id": "sLh46Y2VZ8zZ"
      },
      "source": [
        "def test_auc_ruc_curve(model, X_test, y_test):\r\n",
        "  test_fpr, test_tpr, test_threshold = roc_curve(y_test,model.predict(X_test))\r\n",
        "  test_auc = auc(test_fpr, test_tpr)\r\n",
        "  print(test_auc)\r\n",
        "  plt.plot([0,1])\r\n",
        "  plt.plot(test_fpr, test_tpr)\r\n",
        "\r\n",
        "  return test_auc_ruc_curve"
      ],
      "execution_count": 40,
      "outputs": []
    },
    {
      "cell_type": "markdown",
      "metadata": {
        "id": "p1FLihPO_HAH"
      },
      "source": [
        "#Applying Classification Models"
      ]
    },
    {
      "cell_type": "markdown",
      "metadata": {
        "id": "h-NBSGwT_KeC"
      },
      "source": [
        "#Logistic Regression"
      ]
    },
    {
      "cell_type": "markdown",
      "metadata": {
        "id": "IKtu0E5x_Nmp"
      },
      "source": [
        "###Default Logistic Regression Model"
      ]
    },
    {
      "cell_type": "code",
      "metadata": {
        "colab": {
          "base_uri": "https://localhost:8080/"
        },
        "id": "b0pUK8CR85yK",
        "outputId": "95fb08f5-5a9a-4e8b-933c-c8aabfd466f0"
      },
      "source": [
        "base_model = LogisticRegression(random_state = 1)\r\n",
        "base_model.fit(X_train, y_train)\r\n",
        "base_accuracy = evaluate(base_model, X_test, y_test, X_train, y_train)"
      ],
      "execution_count": 41,
      "outputs": [
        {
          "output_type": "stream",
          "text": [
            "Average Error: 0.0851 degrees.\n",
            "              precision    recall  f1-score   support\n",
            "\n",
            "           0       0.91      0.91      0.91       909\n",
            "           1       0.92      0.92      0.92      1041\n",
            "\n",
            "    accuracy                           0.91      1950\n",
            "   macro avg       0.91      0.91      0.91      1950\n",
            "weighted avg       0.91      0.91      0.91      1950\n",
            "\n",
            "[[825  84]\n",
            " [ 82 959]]\n",
            "Recall Score =  0.9212295869356388\n",
            "Precision Score =  0.9194630872483222\n"
          ],
          "name": "stdout"
        }
      ]
    },
    {
      "cell_type": "code",
      "metadata": {
        "colab": {
          "base_uri": "https://localhost:8080/",
          "height": 313
        },
        "id": "iQDWUIszPQk8",
        "outputId": "9af7e0a1-32a3-4475-bbd4-d8d606506383"
      },
      "source": [
        "train_auc_roc_curve(base_model, X_test, y_test, X_train, y_train)"
      ],
      "execution_count": 42,
      "outputs": [
        {
          "output_type": "stream",
          "text": [
            "roc curve : (array([0.        , 0.09240924, 1.        ]), array([0.        , 0.92122959, 1.        ]), array([2, 1, 0]))\n",
            "auc score : 0.8917714860369769\n"
          ],
          "name": "stdout"
        },
        {
          "output_type": "execute_result",
          "data": {
            "text/plain": [
              "<function __main__.train_auc_roc_curve>"
            ]
          },
          "metadata": {
            "tags": []
          },
          "execution_count": 42
        },
        {
          "output_type": "display_data",
          "data": {
            "image/png": "[encoded data removed]",
            "text/plain": [
              "<Figure size 432x288 with 1 Axes>"
            ]
          },
          "metadata": {
            "tags": [],
            "needs_background": "light"
          }
        }
      ]
    },
    {
      "cell_type": "markdown",
      "metadata": {
        "id": "QNFOUmhn_qKj"
      },
      "source": [
        "###Tuned Logistic Regression"
      ]
    },
    {
      "cell_type": "code",
      "metadata": {
        "id": "3LCHHASJ89Oe"
      },
      "source": [
        "logistic = LogisticRegression(random_state=42)"
      ],
      "execution_count": 43,
      "outputs": []
    },
    {
      "cell_type": "code",
      "metadata": {
        "colab": {
          "base_uri": "https://localhost:8080/"
        },
        "id": "W4wbTeB29DaC",
        "outputId": "9d45e8e7-3718-4891-e668-9a2cd26a1dce"
      },
      "source": [
        "random_parameters = ({'C' : [0.001, 0.01, 0.1, 1.0],\r\n",
        "                      'penalty' : ['l2'],\r\n",
        "                      'solver' : ['lbfgs', 'newton-cg', 'saga'],\r\n",
        "                      'max_iter' : [300,400,500,600,700,900,1000]})\r\n",
        "\r\n",
        "random_search_logistic = RandomizedSearchCV(logistic, param_distributions= random_parameters, n_iter=60, cv=5)\r\n",
        "random_search_logistic.fit(X,y)"
      ],
      "execution_count": 44,
      "outputs": [
        {
          "output_type": "execute_result",
          "data": {
            "text/plain": [
              "RandomizedSearchCV(cv=5, error_score=nan,\n",
              "                   estimator=LogisticRegression(C=1.0, class_weight=None,\n",
              "                                                dual=False, fit_intercept=True,\n",
              "                                                intercept_scaling=1,\n",
              "                                                l1_ratio=None, max_iter=100,\n",
              "                                                multi_class='auto', n_jobs=None,\n",
              "                                                penalty='l2', random_state=42,\n",
              "                                                solver='lbfgs', tol=0.0001,\n",
              "                                                verbose=0, warm_start=False),\n",
              "                   iid='deprecated', n_iter=60, n_jobs=None,\n",
              "                   param_distributions={'C': [0.001, 0.01, 0.1, 1.0],\n",
              "                                        'max_iter': [300, 400, 500, 600, 700,\n",
              "                                                     900, 1000],\n",
              "                                        'penalty': ['l2'],\n",
              "                                        'solver': ['lbfgs', 'newton-cg',\n",
              "                                                   'saga']},\n",
              "                   pre_dispatch='2*n_jobs', random_state=None, refit=True,\n",
              "                   return_train_score=False, scoring=None, verbose=0)"
            ]
          },
          "metadata": {
            "tags": []
          },
          "execution_count": 44
        }
      ]
    },
    {
      "cell_type": "code",
      "metadata": {
        "colab": {
          "base_uri": "https://localhost:8080/"
        },
        "id": "onIjebzP9D7h",
        "outputId": "16c6b2da-c8a1-4b53-c1b9-978e6706b328"
      },
      "source": [
        "random_search_logistic.best_estimator_"
      ],
      "execution_count": 45,
      "outputs": [
        {
          "output_type": "execute_result",
          "data": {
            "text/plain": [
              "LogisticRegression(C=1.0, class_weight=None, dual=False, fit_intercept=True,\n",
              "                   intercept_scaling=1, l1_ratio=None, max_iter=700,\n",
              "                   multi_class='auto', n_jobs=None, penalty='l2',\n",
              "                   random_state=42, solver='newton-cg', tol=0.0001, verbose=0,\n",
              "                   warm_start=False)"
            ]
          },
          "metadata": {
            "tags": []
          },
          "execution_count": 45
        }
      ]
    },
    {
      "cell_type": "code",
      "metadata": {
        "colab": {
          "base_uri": "https://localhost:8080/"
        },
        "id": "glsFiBII9ao1",
        "outputId": "15ff9c19-c553-4d6d-e6a3-f45351391967"
      },
      "source": [
        "logistic = LogisticRegression(C=1.0, class_weight=None, dual=False, fit_intercept=True,\r\n",
        "                   intercept_scaling=1, l1_ratio=None, max_iter=500,\r\n",
        "                   multi_class='auto', n_jobs=None, penalty='l2',\r\n",
        "                   random_state=42, solver='lbfgs', tol=0.0001, verbose=0,\r\n",
        "                   warm_start=False)\r\n",
        "logistic.fit(X, y)"
      ],
      "execution_count": 46,
      "outputs": [
        {
          "output_type": "execute_result",
          "data": {
            "text/plain": [
              "LogisticRegression(C=1.0, class_weight=None, dual=False, fit_intercept=True,\n",
              "                   intercept_scaling=1, l1_ratio=None, max_iter=500,\n",
              "                   multi_class='auto', n_jobs=None, penalty='l2',\n",
              "                   random_state=42, solver='lbfgs', tol=0.0001, verbose=0,\n",
              "                   warm_start=False)"
            ]
          },
          "metadata": {
            "tags": []
          },
          "execution_count": 46
        }
      ]
    },
    {
      "cell_type": "code",
      "metadata": {
        "colab": {
          "base_uri": "https://localhost:8080/"
        },
        "id": "EqHWWemxJtYb",
        "outputId": "0b62d6b9-c837-475b-b980-be0548ee82eb"
      },
      "source": [
        "evaluate(logistic, X_test, y_test, X_train, y_train)"
      ],
      "execution_count": 47,
      "outputs": [
        {
          "output_type": "stream",
          "text": [
            "Average Error: 0.1815 degrees.\n",
            "              precision    recall  f1-score   support\n",
            "\n",
            "           0       0.86      0.72      0.79       909\n",
            "           1       0.79      0.90      0.84      1041\n",
            "\n",
            "    accuracy                           0.82      1950\n",
            "   macro avg       0.83      0.81      0.81      1950\n",
            "weighted avg       0.82      0.82      0.82      1950\n",
            "\n",
            "[[659 250]\n",
            " [104 937]]\n",
            "Recall Score =  0.9000960614793467\n",
            "Precision Score =  0.7893850042123\n"
          ],
          "name": "stdout"
        },
        {
          "output_type": "execute_result",
          "data": {
            "text/plain": [
              "<function __main__.evaluate>"
            ]
          },
          "metadata": {
            "tags": []
          },
          "execution_count": 47
        }
      ]
    },
    {
      "cell_type": "code",
      "metadata": {
        "id": "uM2rAytxPqwK",
        "colab": {
          "base_uri": "https://localhost:8080/",
          "height": 313
        },
        "outputId": "c1f858ca-7c31-4845-8065-e0a0d9f5f00e"
      },
      "source": [
        "train_auc_roc_curve(logistic, X_test, y_test, X_train, y_train)"
      ],
      "execution_count": 48,
      "outputs": [
        {
          "output_type": "stream",
          "text": [
            "roc curve : (array([0.       , 0.2750275, 1.       ]), array([0.        , 0.90009606, 1.        ]), array([2, 1, 0]))\n",
            "auc score : 0.7894875067687785\n"
          ],
          "name": "stdout"
        },
        {
          "output_type": "execute_result",
          "data": {
            "text/plain": [
              "<function __main__.train_auc_roc_curve>"
            ]
          },
          "metadata": {
            "tags": []
          },
          "execution_count": 48
        },
        {
          "output_type": "display_data",
          "data": {
            "image/png": "[encoded data removed]",
            "text/plain": [
              "<Figure size 432x288 with 1 Axes>"
            ]
          },
          "metadata": {
            "tags": [],
            "needs_background": "light"
          }
        }
      ]
    },
    {
      "cell_type": "markdown",
      "metadata": {
        "id": "E9MpbLi6_ge1"
      },
      "source": [
        "#Decision Tree Classifier"
      ]
    },
    {
      "cell_type": "markdown",
      "metadata": {
        "id": "kIVRiX4Y_gXS"
      },
      "source": [
        "###Default Decision Tree Classifier"
      ]
    },
    {
      "cell_type": "code",
      "metadata": {
        "colab": {
          "base_uri": "https://localhost:8080/"
        },
        "id": "ZIwKvzR7RLuW",
        "outputId": "56a1cc0a-c789-4d94-c95d-bd3ee3b86f7f"
      },
      "source": [
        "default_decision_tree_model = DecisionTreeClassifier(random_state=42)\r\n",
        "default_decision_tree_model.fit(X_train, y_train)\r\n",
        "base_accuracy = evaluate(default_decision_tree_model, X_test, y_test, X_train, y_train)"
      ],
      "execution_count": 49,
      "outputs": [
        {
          "output_type": "stream",
          "text": [
            "Average Error: 0.0000 degrees.\n",
            "              precision    recall  f1-score   support\n",
            "\n",
            "           0       1.00      1.00      1.00       909\n",
            "           1       1.00      1.00      1.00      1041\n",
            "\n",
            "    accuracy                           1.00      1950\n",
            "   macro avg       1.00      1.00      1.00      1950\n",
            "weighted avg       1.00      1.00      1.00      1950\n",
            "\n",
            "[[ 909    0]\n",
            " [   0 1041]]\n",
            "Recall Score =  1.0\n",
            "Precision Score =  1.0\n"
          ],
          "name": "stdout"
        }
      ]
    },
    {
      "cell_type": "code",
      "metadata": {
        "colab": {
          "base_uri": "https://localhost:8080/",
          "height": 313
        },
        "id": "gc_lCGEo_1hR",
        "outputId": "987b5d23-4ee4-49a6-ab8b-10d9c0bfecfd"
      },
      "source": [
        "train_auc_roc_curve(default_decision_tree_model, X_test, y_test, X_train, y_train)"
      ],
      "execution_count": 50,
      "outputs": [
        {
          "output_type": "stream",
          "text": [
            "roc curve : (array([0., 0., 1.]), array([0., 1., 1.]), array([2, 1, 0]))\n",
            "auc score : 1.0\n"
          ],
          "name": "stdout"
        },
        {
          "output_type": "execute_result",
          "data": {
            "text/plain": [
              "<function __main__.train_auc_roc_curve>"
            ]
          },
          "metadata": {
            "tags": []
          },
          "execution_count": 50
        },
        {
          "output_type": "display_data",
          "data": {
            "image/png": "[encoded data removed]",
            "text/plain": [
              "<Figure size 432x288 with 1 Axes>"
            ]
          },
          "metadata": {
            "tags": [],
            "needs_background": "light"
          }
        }
      ]
    },
    {
      "cell_type": "markdown",
      "metadata": {
        "id": "84a3pvvp_8bZ"
      },
      "source": [
        "###Tuned Decision Tree Classifier"
      ]
    },
    {
      "cell_type": "code",
      "metadata": {
        "id": "2dHv3MDpRMYm"
      },
      "source": [
        "dtree_classifier = DecisionTreeClassifier(random_state=42)"
      ],
      "execution_count": 51,
      "outputs": []
    },
    {
      "cell_type": "code",
      "metadata": {
        "colab": {
          "base_uri": "https://localhost:8080/"
        },
        "id": "IzSf0vdRTHFW",
        "outputId": "2abc10ee-0f5e-41d1-f8ca-bbcda2ee5d6b"
      },
      "source": [
        "#cost_complexity_pruning_path helps to find different ccp values which will be later used in random search for choosing the best one.\r\n",
        "path = dtree_classifier.cost_complexity_pruning_path(X_train, y_train)\r\n",
        "alphas = path['ccp_alphas']\r\n",
        "alphas"
      ],
      "execution_count": 52,
      "outputs": [
        {
          "output_type": "execute_result",
          "data": {
            "text/plain": [
              "array([0.        , 0.00065791, 0.00128627, 0.0012999 , 0.00131643,\n",
              "       0.00164871, 0.00200484, 0.00216567, 0.00242478, 0.00250218,\n",
              "       0.00265558, 0.00294084, 0.00398547, 0.0040698 , 0.00442573,\n",
              "       0.00492386, 0.00607681, 0.0063336 , 0.01307759, 0.02013103,\n",
              "       0.02145162, 0.02199723, 0.02350558, 0.04694003, 0.04712345,\n",
              "       0.05036879, 0.18700521])"
            ]
          },
          "metadata": {
            "tags": []
          },
          "execution_count": 52
        }
      ]
    },
    {
      "cell_type": "code",
      "metadata": {
        "colab": {
          "base_uri": "https://localhost:8080/"
        },
        "id": "bz2IfVnTRPgc",
        "outputId": "df33e60a-1a26-48f3-be79-d77c32eb3d4d"
      },
      "source": [
        "random_dtree_parameters = ({'ccp_alpha' : alphas,\r\n",
        "                             'criterion' : ['gini','entropy'],\r\n",
        "                            'splitter' : ['best','random'],\r\n",
        "                            'max_depth' : [8,10,12,15,20,24,32],\r\n",
        "                            'min_samples_leaf' : [2,3,5],\r\n",
        "                            'max_features' : ['auto', 'sqrt', 'log2']})\r\n",
        "\r\n",
        "random_search_dtree = RandomizedSearchCV(dtree_classifier, param_distributions= random_dtree_parameters, n_iter=60, cv=5)\r\n",
        "random_search_dtree.fit(X,y)"
      ],
      "execution_count": 53,
      "outputs": [
        {
          "output_type": "execute_result",
          "data": {
            "text/plain": [
              "RandomizedSearchCV(cv=5, error_score=nan,\n",
              "                   estimator=DecisionTreeClassifier(ccp_alpha=0.0,\n",
              "                                                    class_weight=None,\n",
              "                                                    criterion='gini',\n",
              "                                                    max_depth=None,\n",
              "                                                    max_features=None,\n",
              "                                                    max_leaf_nodes=None,\n",
              "                                                    min_impurity_decrease=0.0,\n",
              "                                                    min_impurity_split=None,\n",
              "                                                    min_samples_leaf=1,\n",
              "                                                    min_samples_split=2,\n",
              "                                                    min_weight_fraction_leaf=0.0,\n",
              "                                                    presort='deprecated',\n",
              "                                                    random_state=42,\n",
              "                                                    splitter='best'),\n",
              "                   iid...\n",
              "       0.00492386, 0.00607681, 0.0063336 , 0.01307759, 0.02013103,\n",
              "       0.02145162, 0.02199723, 0.02350558, 0.04694003, 0.04712345,\n",
              "       0.05036879, 0.18700521]),\n",
              "                                        'criterion': ['gini', 'entropy'],\n",
              "                                        'max_depth': [8, 10, 12, 15, 20, 24,\n",
              "                                                      32],\n",
              "                                        'max_features': ['auto', 'sqrt',\n",
              "                                                         'log2'],\n",
              "                                        'min_samples_leaf': [2, 3, 5],\n",
              "                                        'splitter': ['best', 'random']},\n",
              "                   pre_dispatch='2*n_jobs', random_state=None, refit=True,\n",
              "                   return_train_score=False, scoring=None, verbose=0)"
            ]
          },
          "metadata": {
            "tags": []
          },
          "execution_count": 53
        }
      ]
    },
    {
      "cell_type": "code",
      "metadata": {
        "colab": {
          "base_uri": "https://localhost:8080/"
        },
        "id": "Kf6ZC2coRRCh",
        "outputId": "9faf45f0-b598-41d0-afe7-7ffd4bfd69f7"
      },
      "source": [
        "random_search_dtree.best_estimator_"
      ],
      "execution_count": 54,
      "outputs": [
        {
          "output_type": "execute_result",
          "data": {
            "text/plain": [
              "DecisionTreeClassifier(ccp_alpha=0.0012862694371117793, class_weight=None,\n",
              "                       criterion='entropy', max_depth=20, max_features='sqrt',\n",
              "                       max_leaf_nodes=None, min_impurity_decrease=0.0,\n",
              "                       min_impurity_split=None, min_samples_leaf=2,\n",
              "                       min_samples_split=2, min_weight_fraction_leaf=0.0,\n",
              "                       presort='deprecated', random_state=42, splitter='best')"
            ]
          },
          "metadata": {
            "tags": []
          },
          "execution_count": 54
        }
      ]
    },
    {
      "cell_type": "code",
      "metadata": {
        "colab": {
          "base_uri": "https://localhost:8080/"
        },
        "id": "ESJUax_KRT_W",
        "outputId": "172517e6-6a6a-4728-c4be-f3bf32251aa1"
      },
      "source": [
        "dtree_classifier = DecisionTreeClassifier(ccp_alpha=0.0, class_weight=None, criterion='gini',\r\n",
        "                       max_depth=12, max_features='log2', max_leaf_nodes=None,\r\n",
        "                       min_impurity_decrease=0.0, min_impurity_split=None,\r\n",
        "                       min_samples_leaf=3, min_samples_split=2,\r\n",
        "                       min_weight_fraction_leaf=0.0, presort='deprecated',\r\n",
        "                       random_state=42, splitter='best')\r\n",
        "dtree_classifier.fit(X,y)"
      ],
      "execution_count": 55,
      "outputs": [
        {
          "output_type": "execute_result",
          "data": {
            "text/plain": [
              "DecisionTreeClassifier(ccp_alpha=0.0, class_weight=None, criterion='gini',\n",
              "                       max_depth=12, max_features='log2', max_leaf_nodes=None,\n",
              "                       min_impurity_decrease=0.0, min_impurity_split=None,\n",
              "                       min_samples_leaf=3, min_samples_split=2,\n",
              "                       min_weight_fraction_leaf=0.0, presort='deprecated',\n",
              "                       random_state=42, splitter='best')"
            ]
          },
          "metadata": {
            "tags": []
          },
          "execution_count": 55
        }
      ]
    },
    {
      "cell_type": "code",
      "metadata": {
        "colab": {
          "base_uri": "https://localhost:8080/"
        },
        "id": "xu5tgN09RZtY",
        "outputId": "34a44824-8215-4471-ec23-a875c2206f69"
      },
      "source": [
        "evaluate(dtree_classifier, X_test, y_test, X_train, y_train)"
      ],
      "execution_count": 56,
      "outputs": [
        {
          "output_type": "stream",
          "text": [
            "Average Error: 0.3579 degrees.\n",
            "              precision    recall  f1-score   support\n",
            "\n",
            "           0       0.61      0.67      0.63       909\n",
            "           1       0.68      0.62      0.65      1041\n",
            "\n",
            "    accuracy                           0.64      1950\n",
            "   macro avg       0.64      0.64      0.64      1950\n",
            "weighted avg       0.65      0.64      0.64      1950\n",
            "\n",
            "[[606 303]\n",
            " [395 646]]\n",
            "Recall Score =  0.6205571565802114\n",
            "Precision Score =  0.6807165437302424\n"
          ],
          "name": "stdout"
        },
        {
          "output_type": "execute_result",
          "data": {
            "text/plain": [
              "<function __main__.evaluate>"
            ]
          },
          "metadata": {
            "tags": []
          },
          "execution_count": 56
        }
      ]
    },
    {
      "cell_type": "code",
      "metadata": {
        "colab": {
          "base_uri": "https://localhost:8080/",
          "height": 313
        },
        "id": "SBmogWKxAH7d",
        "outputId": "6ed12666-440a-49cf-d393-c8cdb094cbd0"
      },
      "source": [
        "train_auc_roc_curve(dtree_classifier, X_test, y_test, X_train, y_train)"
      ],
      "execution_count": 57,
      "outputs": [
        {
          "output_type": "stream",
          "text": [
            "roc curve : (array([0.        , 0.33333333, 1.        ]), array([0.        , 0.62055716, 1.        ]), array([2, 1, 0]))\n",
            "auc score : 0.6309842770944536\n"
          ],
          "name": "stdout"
        },
        {
          "output_type": "execute_result",
          "data": {
            "text/plain": [
              "<function __main__.train_auc_roc_curve>"
            ]
          },
          "metadata": {
            "tags": []
          },
          "execution_count": 57
        },
        {
          "output_type": "display_data",
          "data": {
            "image/png": "[encoded data removed]",
            "text/plain": [
              "<Figure size 432x288 with 1 Axes>"
            ]
          },
          "metadata": {
            "tags": [],
            "needs_background": "light"
          }
        }
      ]
    },
    {
      "cell_type": "markdown",
      "metadata": {
        "id": "nDtqGAwbAN2P"
      },
      "source": [
        "#Using Stratified Test Data"
      ]
    },
    {
      "cell_type": "code",
      "metadata": {
        "colab": {
          "base_uri": "https://localhost:8080/",
          "height": 260
        },
        "id": "mgGp97P7Ul5b",
        "outputId": "1c8a9137-1565-4ca4-b53e-ea989c4312ad"
      },
      "source": [
        "stratified_test_data.head()"
      ],
      "execution_count": 58,
      "outputs": [
        {
          "output_type": "execute_result",
          "data": {
            "text/html": [
              "<div>\n",
              "<style scoped>\n",
              "    .dataframe tbody tr th:only-of-type {\n",
              "        vertical-align: middle;\n",
              "    }\n",
              "\n",
              "    .dataframe tbody tr th {\n",
              "        vertical-align: top;\n",
              "    }\n",
              "\n",
              "    .dataframe thead th {\n",
              "        text-align: right;\n",
              "    }\n",
              "</style>\n",
              "<table border=\"1\" class=\"dataframe\">\n",
              "  <thead>\n",
              "    <tr style=\"text-align: right;\">\n",
              "      <th></th>\n",
              "      <th>cap-shape</th>\n",
              "      <th>cap-surface</th>\n",
              "      <th>cap-color</th>\n",
              "      <th>bruises</th>\n",
              "      <th>odor</th>\n",
              "      <th>gill-attachment</th>\n",
              "      <th>gill-spacing</th>\n",
              "      <th>gill-size</th>\n",
              "      <th>gill-color</th>\n",
              "      <th>stalk-shape</th>\n",
              "      <th>stalk-root</th>\n",
              "      <th>stalk-surface-above-ring</th>\n",
              "      <th>stalk-surface-below-ring</th>\n",
              "      <th>stalk-color-above-ring</th>\n",
              "      <th>stalk-color-below-ring</th>\n",
              "      <th>veil-type</th>\n",
              "      <th>veil-color</th>\n",
              "      <th>ring-number</th>\n",
              "      <th>ring-type</th>\n",
              "      <th>spore-print-color</th>\n",
              "      <th>population</th>\n",
              "      <th>habitat</th>\n",
              "    </tr>\n",
              "  </thead>\n",
              "  <tbody>\n",
              "    <tr>\n",
              "      <th>4632</th>\n",
              "      <td>x</td>\n",
              "      <td>y</td>\n",
              "      <td>g</td>\n",
              "      <td>f</td>\n",
              "      <td>f</td>\n",
              "      <td>f</td>\n",
              "      <td>c</td>\n",
              "      <td>b</td>\n",
              "      <td>p</td>\n",
              "      <td>e</td>\n",
              "      <td>b</td>\n",
              "      <td>k</td>\n",
              "      <td>k</td>\n",
              "      <td>p</td>\n",
              "      <td>n</td>\n",
              "      <td>p</td>\n",
              "      <td>w</td>\n",
              "      <td>o</td>\n",
              "      <td>l</td>\n",
              "      <td>h</td>\n",
              "      <td>y</td>\n",
              "      <td>d</td>\n",
              "    </tr>\n",
              "    <tr>\n",
              "      <th>3444</th>\n",
              "      <td>x</td>\n",
              "      <td>s</td>\n",
              "      <td>w</td>\n",
              "      <td>f</td>\n",
              "      <td>c</td>\n",
              "      <td>f</td>\n",
              "      <td>c</td>\n",
              "      <td>n</td>\n",
              "      <td>u</td>\n",
              "      <td>e</td>\n",
              "      <td>b</td>\n",
              "      <td>s</td>\n",
              "      <td>s</td>\n",
              "      <td>w</td>\n",
              "      <td>w</td>\n",
              "      <td>p</td>\n",
              "      <td>w</td>\n",
              "      <td>o</td>\n",
              "      <td>p</td>\n",
              "      <td>n</td>\n",
              "      <td>s</td>\n",
              "      <td>d</td>\n",
              "    </tr>\n",
              "    <tr>\n",
              "      <th>1209</th>\n",
              "      <td>x</td>\n",
              "      <td>f</td>\n",
              "      <td>w</td>\n",
              "      <td>f</td>\n",
              "      <td>n</td>\n",
              "      <td>f</td>\n",
              "      <td>w</td>\n",
              "      <td>b</td>\n",
              "      <td>p</td>\n",
              "      <td>t</td>\n",
              "      <td>e</td>\n",
              "      <td>s</td>\n",
              "      <td>s</td>\n",
              "      <td>w</td>\n",
              "      <td>w</td>\n",
              "      <td>p</td>\n",
              "      <td>w</td>\n",
              "      <td>o</td>\n",
              "      <td>e</td>\n",
              "      <td>n</td>\n",
              "      <td>s</td>\n",
              "      <td>g</td>\n",
              "    </tr>\n",
              "    <tr>\n",
              "      <th>6880</th>\n",
              "      <td>f</td>\n",
              "      <td>s</td>\n",
              "      <td>e</td>\n",
              "      <td>f</td>\n",
              "      <td>f</td>\n",
              "      <td>f</td>\n",
              "      <td>c</td>\n",
              "      <td>n</td>\n",
              "      <td>b</td>\n",
              "      <td>t</td>\n",
              "      <td>?</td>\n",
              "      <td>k</td>\n",
              "      <td>s</td>\n",
              "      <td>w</td>\n",
              "      <td>w</td>\n",
              "      <td>p</td>\n",
              "      <td>w</td>\n",
              "      <td>o</td>\n",
              "      <td>e</td>\n",
              "      <td>w</td>\n",
              "      <td>v</td>\n",
              "      <td>p</td>\n",
              "    </tr>\n",
              "    <tr>\n",
              "      <th>4542</th>\n",
              "      <td>x</td>\n",
              "      <td>f</td>\n",
              "      <td>y</td>\n",
              "      <td>f</td>\n",
              "      <td>f</td>\n",
              "      <td>f</td>\n",
              "      <td>c</td>\n",
              "      <td>b</td>\n",
              "      <td>g</td>\n",
              "      <td>e</td>\n",
              "      <td>b</td>\n",
              "      <td>k</td>\n",
              "      <td>k</td>\n",
              "      <td>p</td>\n",
              "      <td>n</td>\n",
              "      <td>p</td>\n",
              "      <td>w</td>\n",
              "      <td>o</td>\n",
              "      <td>l</td>\n",
              "      <td>h</td>\n",
              "      <td>y</td>\n",
              "      <td>g</td>\n",
              "    </tr>\n",
              "  </tbody>\n",
              "</table>\n",
              "</div>"
            ],
            "text/plain": [
              "     cap-shape cap-surface cap-color  ... spore-print-color population habitat\n",
              "4632         x           y         g  ...                 h          y       d\n",
              "3444         x           s         w  ...                 n          s       d\n",
              "1209         x           f         w  ...                 n          s       g\n",
              "6880         f           s         e  ...                 w          v       p\n",
              "4542         x           f         y  ...                 h          y       g\n",
              "\n",
              "[5 rows x 22 columns]"
            ]
          },
          "metadata": {
            "tags": []
          },
          "execution_count": 58
        }
      ]
    },
    {
      "cell_type": "code",
      "metadata": {
        "id": "0mlsJdqQUnA8"
      },
      "source": [
        "le = LabelEncoder()\r\n",
        "stratified_test_data[[\"cap-shape\",'cap-surface','cap-color','bruises','odor','gill-attachment','gill-spacing','gill-size','gill-color','stalk-shape','stalk-root','stalk-surface-above-ring','stalk-surface-below-ring','stalk-color-above-ring','stalk-color-below-ring','veil-type','veil-color','ring-number','ring-type','spore-print-color','population','habitat']] = stratified_test_data[[\"cap-shape\",'cap-surface','cap-color','bruises','odor','gill-attachment','gill-spacing','gill-size','gill-color','stalk-shape','stalk-root','stalk-surface-above-ring','stalk-surface-below-ring','stalk-color-above-ring','stalk-color-below-ring','veil-type','veil-color','ring-number','ring-type','spore-print-color','population','habitat']].apply(le.fit_transform)"
      ],
      "execution_count": 59,
      "outputs": []
    },
    {
      "cell_type": "code",
      "metadata": {
        "id": "w8B-TxZRUvhF"
      },
      "source": [
        "#DELETING ALL THE UNWANTED COLUMNS AND ALSO DELETING THE 'veil-type' COLUMN AS IT IS USELESS FOR US\r\n",
        "stratified_test_data.drop(['cap-shape','cap-color','veil-type','veil-color', 'spore-print-color', 'ring-type'],1,inplace=True)"
      ],
      "execution_count": 60,
      "outputs": []
    },
    {
      "cell_type": "code",
      "metadata": {
        "colab": {
          "base_uri": "https://localhost:8080/",
          "height": 223
        },
        "id": "CeSXUNd_U796",
        "outputId": "538da2d2-8e58-449b-fe39-626b6e7d3be8"
      },
      "source": [
        "stratified_test_data.head()"
      ],
      "execution_count": 61,
      "outputs": [
        {
          "output_type": "execute_result",
          "data": {
            "text/html": [
              "<div>\n",
              "<style scoped>\n",
              "    .dataframe tbody tr th:only-of-type {\n",
              "        vertical-align: middle;\n",
              "    }\n",
              "\n",
              "    .dataframe tbody tr th {\n",
              "        vertical-align: top;\n",
              "    }\n",
              "\n",
              "    .dataframe thead th {\n",
              "        text-align: right;\n",
              "    }\n",
              "</style>\n",
              "<table border=\"1\" class=\"dataframe\">\n",
              "  <thead>\n",
              "    <tr style=\"text-align: right;\">\n",
              "      <th></th>\n",
              "      <th>cap-surface</th>\n",
              "      <th>bruises</th>\n",
              "      <th>odor</th>\n",
              "      <th>gill-attachment</th>\n",
              "      <th>gill-spacing</th>\n",
              "      <th>gill-size</th>\n",
              "      <th>gill-color</th>\n",
              "      <th>stalk-shape</th>\n",
              "      <th>stalk-root</th>\n",
              "      <th>stalk-surface-above-ring</th>\n",
              "      <th>stalk-surface-below-ring</th>\n",
              "      <th>stalk-color-above-ring</th>\n",
              "      <th>stalk-color-below-ring</th>\n",
              "      <th>ring-number</th>\n",
              "      <th>population</th>\n",
              "      <th>habitat</th>\n",
              "    </tr>\n",
              "  </thead>\n",
              "  <tbody>\n",
              "    <tr>\n",
              "      <th>4632</th>\n",
              "      <td>3</td>\n",
              "      <td>0</td>\n",
              "      <td>2</td>\n",
              "      <td>1</td>\n",
              "      <td>0</td>\n",
              "      <td>0</td>\n",
              "      <td>7</td>\n",
              "      <td>0</td>\n",
              "      <td>1</td>\n",
              "      <td>1</td>\n",
              "      <td>1</td>\n",
              "      <td>6</td>\n",
              "      <td>4</td>\n",
              "      <td>1</td>\n",
              "      <td>5</td>\n",
              "      <td>0</td>\n",
              "    </tr>\n",
              "    <tr>\n",
              "      <th>3444</th>\n",
              "      <td>2</td>\n",
              "      <td>0</td>\n",
              "      <td>1</td>\n",
              "      <td>1</td>\n",
              "      <td>0</td>\n",
              "      <td>1</td>\n",
              "      <td>9</td>\n",
              "      <td>0</td>\n",
              "      <td>1</td>\n",
              "      <td>2</td>\n",
              "      <td>2</td>\n",
              "      <td>7</td>\n",
              "      <td>7</td>\n",
              "      <td>1</td>\n",
              "      <td>3</td>\n",
              "      <td>0</td>\n",
              "    </tr>\n",
              "    <tr>\n",
              "      <th>1209</th>\n",
              "      <td>0</td>\n",
              "      <td>0</td>\n",
              "      <td>5</td>\n",
              "      <td>1</td>\n",
              "      <td>1</td>\n",
              "      <td>0</td>\n",
              "      <td>7</td>\n",
              "      <td>1</td>\n",
              "      <td>3</td>\n",
              "      <td>2</td>\n",
              "      <td>2</td>\n",
              "      <td>7</td>\n",
              "      <td>7</td>\n",
              "      <td>1</td>\n",
              "      <td>3</td>\n",
              "      <td>1</td>\n",
              "    </tr>\n",
              "    <tr>\n",
              "      <th>6880</th>\n",
              "      <td>2</td>\n",
              "      <td>0</td>\n",
              "      <td>2</td>\n",
              "      <td>1</td>\n",
              "      <td>0</td>\n",
              "      <td>1</td>\n",
              "      <td>0</td>\n",
              "      <td>1</td>\n",
              "      <td>0</td>\n",
              "      <td>1</td>\n",
              "      <td>2</td>\n",
              "      <td>7</td>\n",
              "      <td>7</td>\n",
              "      <td>1</td>\n",
              "      <td>4</td>\n",
              "      <td>4</td>\n",
              "    </tr>\n",
              "    <tr>\n",
              "      <th>4542</th>\n",
              "      <td>0</td>\n",
              "      <td>0</td>\n",
              "      <td>2</td>\n",
              "      <td>1</td>\n",
              "      <td>0</td>\n",
              "      <td>0</td>\n",
              "      <td>2</td>\n",
              "      <td>0</td>\n",
              "      <td>1</td>\n",
              "      <td>1</td>\n",
              "      <td>1</td>\n",
              "      <td>6</td>\n",
              "      <td>4</td>\n",
              "      <td>1</td>\n",
              "      <td>5</td>\n",
              "      <td>1</td>\n",
              "    </tr>\n",
              "  </tbody>\n",
              "</table>\n",
              "</div>"
            ],
            "text/plain": [
              "      cap-surface  bruises  odor  ...  ring-number  population  habitat\n",
              "4632            3        0     2  ...            1           5        0\n",
              "3444            2        0     1  ...            1           3        0\n",
              "1209            0        0     5  ...            1           3        1\n",
              "6880            2        0     2  ...            1           4        4\n",
              "4542            0        0     2  ...            1           5        1\n",
              "\n",
              "[5 rows x 16 columns]"
            ]
          },
          "metadata": {
            "tags": []
          },
          "execution_count": 61
        }
      ]
    },
    {
      "cell_type": "code",
      "metadata": {
        "colab": {
          "base_uri": "https://localhost:8080/"
        },
        "id": "8a5x6R9fagLF",
        "outputId": "f294c858-e59e-4fd3-96e9-faa06402f30c"
      },
      "source": [
        "stratified_test_data.columns"
      ],
      "execution_count": 62,
      "outputs": [
        {
          "output_type": "execute_result",
          "data": {
            "text/plain": [
              "Index(['cap-surface', 'bruises', 'odor', 'gill-attachment', 'gill-spacing',\n",
              "       'gill-size', 'gill-color', 'stalk-shape', 'stalk-root',\n",
              "       'stalk-surface-above-ring', 'stalk-surface-below-ring',\n",
              "       'stalk-color-above-ring', 'stalk-color-below-ring', 'ring-number',\n",
              "       'population', 'habitat'],\n",
              "      dtype='object')"
            ]
          },
          "metadata": {
            "tags": []
          },
          "execution_count": 62
        }
      ]
    },
    {
      "cell_type": "code",
      "metadata": {
        "colab": {
          "base_uri": "https://localhost:8080/"
        },
        "id": "aGSLaCjtWMVI",
        "outputId": "0dbab02b-b202-43bd-897e-e39546f2bbf0"
      },
      "source": [
        "stratified_test_data['stalk-surface'] = stratified_test_data['stalk-surface-above-ring'] + stratified_test_data['stalk-surface-below-ring']\r\n",
        "stratified_test_data['stalk-surface']"
      ],
      "execution_count": 63,
      "outputs": [
        {
          "output_type": "execute_result",
          "data": {
            "text/plain": [
              "4632    2\n",
              "3444    4\n",
              "1209    4\n",
              "6880    3\n",
              "4542    2\n",
              "       ..\n",
              "7554    4\n",
              "3198    4\n",
              "3850    4\n",
              "1965    4\n",
              "5718    4\n",
              "Name: stalk-surface, Length: 1625, dtype: int64"
            ]
          },
          "metadata": {
            "tags": []
          },
          "execution_count": 63
        }
      ]
    },
    {
      "cell_type": "code",
      "metadata": {
        "id": "9lGaWotpWaOw"
      },
      "source": [
        "stratified_test_data.drop(['stalk-color-above-ring', 'stalk-color-below-ring','stalk-surface-above-ring','stalk-surface-below-ring','cap-surface','odor', 'gill-attachment', 'stalk-shape', 'ring-number'],1,inplace=True)"
      ],
      "execution_count": 64,
      "outputs": []
    },
    {
      "cell_type": "code",
      "metadata": {
        "colab": {
          "base_uri": "https://localhost:8080/"
        },
        "id": "yRUZ8MYfbHil",
        "outputId": "d639be01-9d29-4111-d7fa-6cc0663af810"
      },
      "source": [
        "print(\"Remaining Columns are \\n: {}\". format(stratified_test_data.columns))"
      ],
      "execution_count": 65,
      "outputs": [
        {
          "output_type": "stream",
          "text": [
            "Remaining Columns are \n",
            ": Index(['bruises', 'gill-spacing', 'gill-size', 'gill-color', 'stalk-root',\n",
            "       'population', 'habitat', 'stalk-surface'],\n",
            "      dtype='object')\n"
          ],
          "name": "stdout"
        }
      ]
    },
    {
      "cell_type": "code",
      "metadata": {
        "colab": {
          "base_uri": "https://localhost:8080/",
          "height": 645
        },
        "id": "LIcK9SO6KRR5",
        "outputId": "6b7672d0-0613-4d67-d826-f191cd260405"
      },
      "source": [
        "column = ['bruises','gill-spacing','gill-size','gill-color','stalk-root','population','habitat','stalk-surface']\r\n",
        "boxcox_transformation(stratified_test_data,column)"
      ],
      "execution_count": 66,
      "outputs": [
        {
          "output_type": "stream",
          "text": [
            "1.8014604612780831\n",
            "\n"
          ],
          "name": "stdout"
        },
        {
          "output_type": "display_data",
          "data": {
            "image/png": "[encoded data removed]",
            "text/plain": [
              "<Figure size 1080x432 with 2 Axes>"
            ]
          },
          "metadata": {
            "tags": [],
            "needs_background": "light"
          }
        },
        {
          "output_type": "display_data",
          "data": {
            "image/png": "[encoded data removed]",
            "text/plain": [
              "<Figure size 1080x432 with 2 Axes>"
            ]
          },
          "metadata": {
            "tags": [],
            "needs_background": "light"
          }
        }
      ]
    },
    {
      "cell_type": "code",
      "metadata": {
        "colab": {
          "base_uri": "https://localhost:8080/",
          "height": 391
        },
        "id": "14dyFdlyG1mb",
        "outputId": "e4f5eaa9-530b-48f1-b6ae-61732a73ed92"
      },
      "source": [
        "test_pca = PCA(n_components = 7,random_state=42)\r\n",
        "transformed_test_data = test_pca.fit_transform(stratified_test_data)\r\n",
        "test_x = pd.DataFrame(data = transformed_test_data, columns = ['PCA1','PCA2','PCA3','PCA4','PCA5','PCA6','PCA7'])\r\n",
        "test_x"
      ],
      "execution_count": 67,
      "outputs": [
        {
          "output_type": "execute_result",
          "data": {
            "text/html": [
              "<div>\n",
              "<style scoped>\n",
              "    .dataframe tbody tr th:only-of-type {\n",
              "        vertical-align: middle;\n",
              "    }\n",
              "\n",
              "    .dataframe tbody tr th {\n",
              "        vertical-align: top;\n",
              "    }\n",
              "\n",
              "    .dataframe thead th {\n",
              "        text-align: right;\n",
              "    }\n",
              "</style>\n",
              "<table border=\"1\" class=\"dataframe\">\n",
              "  <thead>\n",
              "    <tr style=\"text-align: right;\">\n",
              "      <th></th>\n",
              "      <th>PCA1</th>\n",
              "      <th>PCA2</th>\n",
              "      <th>PCA3</th>\n",
              "      <th>PCA4</th>\n",
              "      <th>PCA5</th>\n",
              "      <th>PCA6</th>\n",
              "      <th>PCA7</th>\n",
              "    </tr>\n",
              "  </thead>\n",
              "  <tbody>\n",
              "    <tr>\n",
              "      <th>0</th>\n",
              "      <td>2.247162</td>\n",
              "      <td>-1.563533</td>\n",
              "      <td>-0.363378</td>\n",
              "      <td>1.787319</td>\n",
              "      <td>0.351873</td>\n",
              "      <td>0.120196</td>\n",
              "      <td>0.302329</td>\n",
              "    </tr>\n",
              "    <tr>\n",
              "      <th>1</th>\n",
              "      <td>4.361829</td>\n",
              "      <td>-0.826292</td>\n",
              "      <td>0.315885</td>\n",
              "      <td>-0.377385</td>\n",
              "      <td>-0.958475</td>\n",
              "      <td>1.140627</td>\n",
              "      <td>0.023016</td>\n",
              "    </tr>\n",
              "    <tr>\n",
              "      <th>2</th>\n",
              "      <td>2.557412</td>\n",
              "      <td>0.162623</td>\n",
              "      <td>1.103957</td>\n",
              "      <td>-0.871974</td>\n",
              "      <td>1.025279</td>\n",
              "      <td>0.427906</td>\n",
              "      <td>0.699505</td>\n",
              "    </tr>\n",
              "    <tr>\n",
              "      <th>3</th>\n",
              "      <td>-5.182465</td>\n",
              "      <td>1.500546</td>\n",
              "      <td>-1.145364</td>\n",
              "      <td>0.006384</td>\n",
              "      <td>-0.340016</td>\n",
              "      <td>0.237908</td>\n",
              "      <td>-0.065046</td>\n",
              "    </tr>\n",
              "    <tr>\n",
              "      <th>4</th>\n",
              "      <td>-2.763645</td>\n",
              "      <td>-1.195125</td>\n",
              "      <td>-0.293174</td>\n",
              "      <td>1.181323</td>\n",
              "      <td>0.820016</td>\n",
              "      <td>-0.284174</td>\n",
              "      <td>0.331752</td>\n",
              "    </tr>\n",
              "    <tr>\n",
              "      <th>...</th>\n",
              "      <td>...</td>\n",
              "      <td>...</td>\n",
              "      <td>...</td>\n",
              "      <td>...</td>\n",
              "      <td>...</td>\n",
              "      <td>...</td>\n",
              "      <td>...</td>\n",
              "    </tr>\n",
              "    <tr>\n",
              "      <th>1620</th>\n",
              "      <td>-4.812741</td>\n",
              "      <td>-0.412977</td>\n",
              "      <td>-0.825843</td>\n",
              "      <td>-1.017020</td>\n",
              "      <td>-0.474449</td>\n",
              "      <td>0.304792</td>\n",
              "      <td>0.107282</td>\n",
              "    </tr>\n",
              "    <tr>\n",
              "      <th>1621</th>\n",
              "      <td>5.457161</td>\n",
              "      <td>-1.001537</td>\n",
              "      <td>-0.528393</td>\n",
              "      <td>-0.100019</td>\n",
              "      <td>-0.388300</td>\n",
              "      <td>-0.137000</td>\n",
              "      <td>-0.117704</td>\n",
              "    </tr>\n",
              "    <tr>\n",
              "      <th>1622</th>\n",
              "      <td>0.562879</td>\n",
              "      <td>-1.871111</td>\n",
              "      <td>-0.912417</td>\n",
              "      <td>-0.495427</td>\n",
              "      <td>0.527722</td>\n",
              "      <td>-0.512740</td>\n",
              "      <td>-0.047564</td>\n",
              "    </tr>\n",
              "    <tr>\n",
              "      <th>1623</th>\n",
              "      <td>2.557412</td>\n",
              "      <td>0.162623</td>\n",
              "      <td>1.103957</td>\n",
              "      <td>-0.871974</td>\n",
              "      <td>1.025279</td>\n",
              "      <td>0.427906</td>\n",
              "      <td>0.699505</td>\n",
              "    </tr>\n",
              "    <tr>\n",
              "      <th>1624</th>\n",
              "      <td>2.416333</td>\n",
              "      <td>-0.104008</td>\n",
              "      <td>0.157991</td>\n",
              "      <td>-0.706350</td>\n",
              "      <td>-0.580328</td>\n",
              "      <td>-0.403265</td>\n",
              "      <td>-0.153311</td>\n",
              "    </tr>\n",
              "  </tbody>\n",
              "</table>\n",
              "<p>1625 rows × 7 columns</p>\n",
              "</div>"
            ],
            "text/plain": [
              "          PCA1      PCA2      PCA3      PCA4      PCA5      PCA6      PCA7\n",
              "0     2.247162 -1.563533 -0.363378  1.787319  0.351873  0.120196  0.302329\n",
              "1     4.361829 -0.826292  0.315885 -0.377385 -0.958475  1.140627  0.023016\n",
              "2     2.557412  0.162623  1.103957 -0.871974  1.025279  0.427906  0.699505\n",
              "3    -5.182465  1.500546 -1.145364  0.006384 -0.340016  0.237908 -0.065046\n",
              "4    -2.763645 -1.195125 -0.293174  1.181323  0.820016 -0.284174  0.331752\n",
              "...        ...       ...       ...       ...       ...       ...       ...\n",
              "1620 -4.812741 -0.412977 -0.825843 -1.017020 -0.474449  0.304792  0.107282\n",
              "1621  5.457161 -1.001537 -0.528393 -0.100019 -0.388300 -0.137000 -0.117704\n",
              "1622  0.562879 -1.871111 -0.912417 -0.495427  0.527722 -0.512740 -0.047564\n",
              "1623  2.557412  0.162623  1.103957 -0.871974  1.025279  0.427906  0.699505\n",
              "1624  2.416333 -0.104008  0.157991 -0.706350 -0.580328 -0.403265 -0.153311\n",
              "\n",
              "[1625 rows x 7 columns]"
            ]
          },
          "metadata": {
            "tags": []
          },
          "execution_count": 67
        }
      ]
    },
    {
      "cell_type": "code",
      "metadata": {
        "id": "fM7umryOHPQb"
      },
      "source": [
        "sc = StandardScaler()\r\n",
        "test_x = sc.fit_transform(test_x)"
      ],
      "execution_count": 68,
      "outputs": []
    },
    {
      "cell_type": "code",
      "metadata": {
        "colab": {
          "base_uri": "https://localhost:8080/"
        },
        "id": "HOrfCgtvMmq8",
        "outputId": "6eeb7952-ae45-4d3c-9b6c-ce085530e36f"
      },
      "source": [
        "print(test_x)"
      ],
      "execution_count": 69,
      "outputs": [
        {
          "output_type": "stream",
          "text": [
            "[[ 0.62057514 -0.9221578  -0.27473408 ...  0.39008353  0.2913565\n",
            "   0.98657963]\n",
            " [ 1.20456053 -0.48733958  0.23882667 ... -1.06255652  2.76490016\n",
            "   0.07510604]\n",
            " [ 0.70625379  0.09591385  0.83465274 ...  1.13661501  1.0372508\n",
            "   2.28267214]\n",
            " ...\n",
            " [ 0.15544439 -1.10356481 -0.68983793 ...  0.58502746 -1.24289018\n",
            "  -0.15521353]\n",
            " [ 0.70625379  0.09591385  0.83465274 ...  1.13661501  1.0372508\n",
            "   2.28267214]\n",
            " [ 0.66729331 -0.06134295  0.11945016 ... -0.64334598 -0.97752064\n",
            "  -0.50029449]]\n"
          ],
          "name": "stdout"
        }
      ]
    },
    {
      "cell_type": "markdown",
      "metadata": {
        "id": "IdAQF77CXDly"
      },
      "source": [
        "##Default Logistic Regression"
      ]
    },
    {
      "cell_type": "code",
      "metadata": {
        "colab": {
          "base_uri": "https://localhost:8080/",
          "height": 297
        },
        "id": "dce3PRC3Uhy1",
        "outputId": "2ef1be74-3b42-4b60-f4e6-fb82603d1062"
      },
      "source": [
        "test_auc_ruc_curve(base_model, X_test, y_test)"
      ],
      "execution_count": 70,
      "outputs": [
        {
          "output_type": "stream",
          "text": [
            "0.9144101730057732\n"
          ],
          "name": "stdout"
        },
        {
          "output_type": "execute_result",
          "data": {
            "text/plain": [
              "<function __main__.test_auc_ruc_curve>"
            ]
          },
          "metadata": {
            "tags": []
          },
          "execution_count": 70
        },
        {
          "output_type": "display_data",
          "data": {
            "image/png": "[encoded data removed]",
            "text/plain": [
              "<Figure size 432x288 with 1 Axes>"
            ]
          },
          "metadata": {
            "tags": [],
            "needs_background": "light"
          }
        }
      ]
    },
    {
      "cell_type": "markdown",
      "metadata": {
        "id": "OZ6QAFuRXJxd"
      },
      "source": [
        "##Tuned Logistic Regression"
      ]
    },
    {
      "cell_type": "code",
      "metadata": {
        "colab": {
          "base_uri": "https://localhost:8080/",
          "height": 297
        },
        "id": "0PyIXWU2VvC3",
        "outputId": "210d803e-b4bb-447f-d658-9c632873e6d1"
      },
      "source": [
        "test_auc_ruc_curve(logistic, X_test, y_test)"
      ],
      "execution_count": 71,
      "outputs": [
        {
          "output_type": "stream",
          "text": [
            "0.8125342793645358\n"
          ],
          "name": "stdout"
        },
        {
          "output_type": "execute_result",
          "data": {
            "text/plain": [
              "<function __main__.test_auc_ruc_curve>"
            ]
          },
          "metadata": {
            "tags": []
          },
          "execution_count": 71
        },
        {
          "output_type": "display_data",
          "data": {
            "image/png": "[encoded data removed]",
            "text/plain": [
              "<Figure size 432x288 with 1 Axes>"
            ]
          },
          "metadata": {
            "tags": [],
            "needs_background": "light"
          }
        }
      ]
    },
    {
      "cell_type": "markdown",
      "metadata": {
        "id": "FEUbqpL2XM-q"
      },
      "source": [
        "##Default Decision tree classifier"
      ]
    },
    {
      "cell_type": "code",
      "metadata": {
        "colab": {
          "base_uri": "https://localhost:8080/",
          "height": 297
        },
        "id": "ry_zJxH3bTT5",
        "outputId": "8c8bd007-56c5-4710-ae1a-f8a3635d8f78"
      },
      "source": [
        "test_auc_ruc_curve(default_decision_tree_model, X_test, y_test)"
      ],
      "execution_count": 72,
      "outputs": [
        {
          "output_type": "stream",
          "text": [
            "1.0\n"
          ],
          "name": "stdout"
        },
        {
          "output_type": "execute_result",
          "data": {
            "text/plain": [
              "<function __main__.test_auc_ruc_curve>"
            ]
          },
          "metadata": {
            "tags": []
          },
          "execution_count": 72
        },
        {
          "output_type": "display_data",
          "data": {
            "image/png": "[encoded data removed]",
            "text/plain": [
              "<Figure size 432x288 with 1 Axes>"
            ]
          },
          "metadata": {
            "tags": [],
            "needs_background": "light"
          }
        }
      ]
    },
    {
      "cell_type": "markdown",
      "metadata": {
        "id": "pCIK8ShqXQFC"
      },
      "source": [
        "##Tuned Decision Tree classifier"
      ]
    },
    {
      "cell_type": "code",
      "metadata": {
        "colab": {
          "base_uri": "https://localhost:8080/",
          "height": 297
        },
        "id": "BOof7tP3c9B1",
        "outputId": "87f54a92-44d2-4c3e-cfa8-8b6637c5e87d"
      },
      "source": [
        "test_auc_ruc_curve(dtree_classifier, X_test, y_test)"
      ],
      "execution_count": 73,
      "outputs": [
        {
          "output_type": "stream",
          "text": [
            "0.6436119116234391\n"
          ],
          "name": "stdout"
        },
        {
          "output_type": "execute_result",
          "data": {
            "text/plain": [
              "<function __main__.test_auc_ruc_curve>"
            ]
          },
          "metadata": {
            "tags": []
          },
          "execution_count": 73
        },
        {
          "output_type": "display_data",
          "data": {
            "image/png": "[encoded data removed]",
            "text/plain": [
              "<Figure size 432x288 with 1 Axes>"
            ]
          },
          "metadata": {
            "tags": [],
            "needs_background": "light"
          }
        }
      ]
    },
    {
      "cell_type": "code",
      "metadata": {
        "id": "qK295CrIb9gS"
      },
      "source": [
        ""
      ],
      "execution_count": 73,
      "outputs": []
    }
  ]
}